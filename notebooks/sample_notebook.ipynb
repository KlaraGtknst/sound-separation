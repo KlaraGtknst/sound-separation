{
 "cells": [
  {
   "cell_type": "markdown",
   "source": [
    "Setup to run train with in a notebook"
   ],
   "metadata": {
    "collapsed": false
   },
   "id": "edeb1b16703f8a2d"
  },
  {
   "cell_type": "code",
   "source": [
    "%load_ext autoreload\n",
    "%autoreload 2"
   ],
   "metadata": {
    "collapsed": false,
    "jupyter": {
     "is_executing": true
    }
   },
   "id": "c0107964d0963a8d",
   "outputs": [],
   "execution_count": null
  },
  {
   "cell_type": "code",
   "source": [
    "import os\n",
    "os.getcwd()"
   ],
   "metadata": {
    "collapsed": false
   },
   "id": "75b2bf17d2af8c9f",
   "outputs": [],
   "execution_count": null
  },
  {
   "cell_type": "code",
   "source": [
    "import sys\n",
    "sys.argv = [\"\"]"
   ],
   "metadata": {
    "collapsed": false
   },
   "id": "90ccb4281568e5e9",
   "outputs": [],
   "execution_count": null
  },
  {
   "cell_type": "raw",
   "source": [
    "run train"
   ],
   "metadata": {
    "collapsed": false
   },
   "id": "243f23ce30b9b472"
  },
  {
   "cell_type": "code",
   "id": "initial_id",
   "metadata": {
    "collapsed": true
   },
   "source": [
    "from src.train import main"
   ],
   "outputs": [],
   "execution_count": null
  },
  {
   "cell_type": "code",
   "source": [
    "main()"
   ],
   "metadata": {
    "collapsed": false
   },
   "id": "b70c829e6c65509a",
   "outputs": [],
   "execution_count": null
  }
 ],
 "metadata": {
  "kernelspec": {
   "display_name": "Python 3",
   "language": "python",
   "name": "python3"
  },
  "language_info": {
   "codemirror_mode": {
    "name": "ipython",
    "version": 2
   },
   "file_extension": ".py",
   "mimetype": "text/x-python",
   "name": "python",
   "nbconvert_exporter": "python",
   "pygments_lexer": "ipython2",
   "version": "2.7.6"
  }
 },
 "nbformat": 4,
 "nbformat_minor": 5
}
