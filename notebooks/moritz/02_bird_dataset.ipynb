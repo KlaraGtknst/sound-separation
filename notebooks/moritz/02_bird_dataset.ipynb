{
 "cells": [
  {
   "cell_type": "code",
   "id": "initial_id",
   "metadata": {
    "collapsed": true,
    "ExecuteTime": {
     "end_time": "2024-09-09T07:37:56.862186Z",
     "start_time": "2024-09-09T07:37:56.852695Z"
    }
   },
   "source": [
    "%load_ext autoreload\n",
    "%autoreload 2"
   ],
   "outputs": [],
   "execution_count": 1
  },
  {
   "metadata": {
    "ExecuteTime": {
     "end_time": "2024-09-09T07:37:57.624111Z",
     "start_time": "2024-09-09T07:37:57.616427Z"
    }
   },
   "cell_type": "code",
   "source": [
    "import os\n",
    "os.getcwd()"
   ],
   "id": "10b516e490c64a99",
   "outputs": [
    {
     "data": {
      "text/plain": [
       "'/home/mwirth/projects/sound-seperation/notebooks/moritz'"
      ]
     },
     "execution_count": 2,
     "metadata": {},
     "output_type": "execute_result"
    }
   ],
   "execution_count": 2
  },
  {
   "metadata": {
    "ExecuteTime": {
     "end_time": "2024-09-09T07:37:58.570026Z",
     "start_time": "2024-09-09T07:37:58.044727Z"
    }
   },
   "cell_type": "code",
   "source": "from datasets import load_dataset",
   "id": "c17cb27942426285",
   "outputs": [],
   "execution_count": 3
  },
  {
   "metadata": {
    "ExecuteTime": {
     "end_time": "2024-09-09T07:37:58.730716Z",
     "start_time": "2024-09-09T07:37:58.720629Z"
    }
   },
   "cell_type": "code",
   "source": [
    "path = r\"DBD-research-group/BirdSet\"\n",
    "name = \"XCM\"\n",
    "cache_dir = f\"../../data/{path}/{name}\"\n",
    "trust_remote_code =  True\n",
    "num_proc =  5"
   ],
   "id": "982ed2e9de9e2350",
   "outputs": [],
   "execution_count": 4
  },
  {
   "metadata": {
    "ExecuteTime": {
     "end_time": "2024-09-09T07:38:02.268538Z",
     "start_time": "2024-09-09T07:38:02.257093Z"
    }
   },
   "cell_type": "code",
   "source": "os.path.exists(cache_dir)",
   "id": "4e002420c0985333",
   "outputs": [
    {
     "data": {
      "text/plain": [
       "False"
      ]
     },
     "execution_count": 5,
     "metadata": {},
     "output_type": "execute_result"
    }
   ],
   "execution_count": 5
  },
  {
   "metadata": {
    "ExecuteTime": {
     "end_time": "2024-08-10T07:53:18.173867Z",
     "start_time": "2024-08-10T07:53:16.501977Z"
    }
   },
   "cell_type": "code",
   "source": "ds = load_dataset(path, name, cache_dir=cache_dir, trust_remote_code=True, split=\"train\")",
   "id": "9bc872f61c0c7b3a",
   "outputs": [],
   "execution_count": 10
  },
  {
   "metadata": {
    "ExecuteTime": {
     "end_time": "2024-08-10T08:37:40.274853Z",
     "start_time": "2024-08-10T08:37:40.265296Z"
    }
   },
   "cell_type": "code",
   "source": "ds",
   "id": "55d92fc1396661ff",
   "outputs": [
    {
     "data": {
      "text/plain": [
       "Dataset({\n",
       "    features: ['audio', 'filepath', 'start_time', 'end_time', 'low_freq', 'high_freq', 'ebird_code', 'ebird_code_multilabel', 'ebird_code_secondary', 'call_type', 'sex', 'lat', 'long', 'length', 'microphone', 'license', 'source', 'local_time', 'detected_events', 'event_cluster', 'peaks', 'quality', 'recordist'],\n",
       "    num_rows: 80012\n",
       "})"
      ]
     },
     "execution_count": 34,
     "metadata": {},
     "output_type": "execute_result"
    }
   ],
   "execution_count": 34
  },
  {
   "metadata": {
    "ExecuteTime": {
     "end_time": "2024-08-10T08:38:26.765428Z",
     "start_time": "2024-08-10T08:38:21.268100Z"
    }
   },
   "cell_type": "code",
   "source": "short = ds.filter(lambda x: x[\"length\"] <= 5 and len(x[\"ebird_code_secondary\"]) == 0 and x[\"quality\"] in [\"A\", \"B\"])",
   "id": "a78b084111365a56",
   "outputs": [
    {
     "data": {
      "text/plain": [
       "Filter:   0%|          | 0/80012 [00:00<?, ? examples/s]"
      ],
      "application/vnd.jupyter.widget-view+json": {
       "version_major": 2,
       "version_minor": 0,
       "model_id": "2925899dfe23453b8bea28214c99d694"
      }
     },
     "metadata": {},
     "output_type": "display_data"
    }
   ],
   "execution_count": 35
  },
  {
   "metadata": {
    "ExecuteTime": {
     "end_time": "2024-08-10T08:38:30.107242Z",
     "start_time": "2024-08-10T08:38:30.087722Z"
    }
   },
   "cell_type": "code",
   "source": "sum(short[\"length\"]) / 60 / 60",
   "id": "d134412dbe88ef9a",
   "outputs": [
    {
     "data": {
      "text/plain": [
       "3.3402777777777777"
      ]
     },
     "execution_count": 36,
     "metadata": {},
     "output_type": "execute_result"
    }
   ],
   "execution_count": 36
  },
  {
   "metadata": {
    "ExecuteTime": {
     "end_time": "2024-08-10T08:37:11.383277Z",
     "start_time": "2024-08-10T08:37:11.353350Z"
    }
   },
   "cell_type": "code",
   "source": "sum(short[\"length\"]) / 60 / 60",
   "id": "97192d652e5a826",
   "outputs": [
    {
     "data": {
      "text/plain": [
       "13.18888888888889"
      ]
     },
     "execution_count": 33,
     "metadata": {},
     "output_type": "execute_result"
    }
   ],
   "execution_count": 33
  },
  {
   "metadata": {
    "ExecuteTime": {
     "end_time": "2024-08-10T07:54:31.387750Z",
     "start_time": "2024-08-10T07:54:31.378681Z"
    }
   },
   "cell_type": "code",
   "source": "from IPython.display import Audio",
   "id": "a7846fbe2a846fb4",
   "outputs": [],
   "execution_count": 15
  },
  {
   "metadata": {
    "ExecuteTime": {
     "end_time": "2024-08-10T07:57:52.403999Z",
     "start_time": "2024-08-10T07:57:52.393446Z"
    }
   },
   "cell_type": "code",
   "source": [
    "print(short[0][\"ebird_code_secondary\"])\n",
    "Audio(filename=short[4][\"filepath\"])"
   ],
   "id": "4ecfb668014e2d17",
   "outputs": [
    {
     "name": "stdout",
     "output_type": "stream",
     "text": [
      "[]\n"
     ]
    },
    {
     "data": {
      "text/plain": [
       "<IPython.lib.display.Audio object>"
      ],
      "text/html": [
       "\n",
       "                <audio  controls=\"controls\" >\n",
       "                    <source src=\"data:audio/ogg;base64,T2dnUwACAAAAAAAAAABkCrktAAAAAJ5HTPkBHgF2b3JiaXMAAAAAAQB9AAAAAAAAsDABAAAAAAC4AU9nZ1MAAAAAAAAAAAAAZAq5LQEAAABE0zPjD1r/////////////////kQN2b3JiaXM0AAAAWGlwaC5PcmcgbGliVm9yYmlzIEkgMjAyMDA3MDQgKFJlZHVjaW5nIEVudmlyb25tZW50KQEAAAASAAAARU5DT0RFUj1saWJzbmRmaWxlAQV2b3JiaXMmQkNWAQAIAACAIkwYxIDQkFUAABAAAKCsN5Z7yL333nuBqEcUe4i9995746xH0HqIuffee+69pxp7y7333nMgNGQVAAAEAIApCJpy4ELqvfceGeYRURoqx733HhmFiTCUGYU9ldpa6yGT3ELqPeceCA1ZBQAAAgBACCGEFFJIIYUUUkghhRRSSCmlmGKKKaaYYsoppxxzzDHHIIMOOuikk1BCCSmkUEoqqaSUUkot1lpz7r0H3XPvQfgghBBCCCGEEEIIIYQQQghCQ1YBACAAAARCCCFkEEIIIYQUUkghpphiyimngNCQVQAAIACAAAAAAEmRFMuxHM3RHM3xHM8RJVESJdEyLdNSNVMzPVVURdVUVVdVXV13bdV2bdWWbddWbdV2bdVWbVm2bdu2bdu2bdu2bdu2bdu2bSA0ZBUAIAEAoCM5kiMpkiIpkuM4kgSEhqwCAGQAAAQAoCiK4ziO5EiOJWmSZnmWZ4maqJma6KmeCoSGrAIAAAEABAAAAAAA4HiK53iOZ3mS53iOZ3map2mapmmapmmapmmapmmapmmapmmapmmapmmapmmapmmapmmapmmapmmapmlAaMgqAEACAEDHcRzHcRzHcRxHciQHCA1ZBQDIAAAIAEBSJMdyLEdzNMdzPEd0RMd0TMmUVMm1XAsIDVkFAAACAAgAAAAAAEATLEVTPMeTPM8TNc/TNM0TTVE0TdM0TdM0TdM0TdM0TdM0TdM0TdM0TdM0TdM0TdM0TdM0TdM0TVMUgdCQVQAABAAAIZ1mlmqACDOQYSA0ZBUAgAAAABihCEMMCA1ZBQAABAAAiKHkIJrQmvPNOQ6a5aCpFJvTwYlUmye5qZibc84555xszhnjnHPOKcqZxaCZ0JpzzkkMmqWgmdCac855EpsHranSmnPOGeecDsYZYZxzzmnSmgep2Vibc85Z0JrmqLkUm3POiZSbJ7W5VJtzzjnnnHPOOeecc86pXpzOwTnhnHPOidqba7kJXZxzzvlknO7NCeGcc84555xzzjnnnHPOCUJDVgEAQAAABGHYGMadgiB9jgZiFCGmIZMedI8Ok6AxyCmkHo2ORkqpg1BSGSeldILQkFUAACAAAIQQUkghhRRSSCGFFFJIIYYYYoghp5xyCiqopJKKKsoos8wyyyyzzDLLrMPOOuuwwxBDDDG00kosNdVWY4215p5zrjlIa6W11lorpZRSSimlIDRkFQAAAgBAIGSQQQYZhRRSSCGGmHLKKaegggoIDVkFAAACAAgAAADwJM8RHdERHdERHdERHdERHc/xHFESJVESJdEyLVMzPVVUVVd2bVmXddu3hV3Ydd/Xfd/XjV8XhmVZlmVZlmVZlmVZlmVZlmUJQkNWAQAgAAAAQgghhBRSSCGFlGKMMcecg05CCYHQkFUAACAAgAAAAABHcRTHkRzJkSRLsiRN0izN8jRP8zTRE0VRNE1TFV3RFXXTFmVTNl3TNWXTVWXVdmXZtmVbt31Ztn3f933f933f933f933f13UgNGQVACABAKAjOZIiKZIiOY7jSJIEhIasAgBkAAAEAKAojuI4jiNJkiRZkiZ5lmeJmqmZnumpogqEhqwCAAABAAQAAAAAAKBoiqeYiqeIiueIjiiJlmmJmqq5omzKruu6ruu6ruu6ruu6ruu6ruu6ruu6ruu6ruu6ruu6ruu6ruu6QGjIKgBAAgBAR3IkR3IkRVIkRXIkBwgNWQUAyAAACADAMRxDUiTHsixN8zRP8zTREz3RMz1VdEUXCA1ZBQAAAgAIAAAAAADAkAxLsRzN0SRRUi3VUjXVUi1VVD1VVVVVVVVVVVVVVVVVVVVVVVVVVVVVVVVVVVVVVVVVVVXVNE3TNIHQkJUAABAAAA06+Bp7yZjEkntojEIMeuuYc456zYwiyHHsEDOIeQuVIwR5jZlEiHEgNGRFABAFAAAYgxxDzCHnnKROUuSco9JRapxzlDpKHaUUa8q1o1RiS7U2zjlKHaWMUsq1tNpRSrWmGgsAAAhwAAAIsBAKDVkRAEQBABAIIaWQUkgp5pxyDimlnGPOIaaUc8o55ZyD0kmpnHPSOSmRUso55ZxyzknpnFTOOSmdhAIAAAIcAAACLIRCQ1YEAHECAA7H8TxJ00RR0jRR9EzRdT3RdF1J00xTE0VV1URRVU1XtW3RVGVb0jTT1ERRVTVRVFVRNW3ZVFXb9kzTlk3X1W1RVXVbtm1heG3b9z3TtG1RVW3ddF1bd23Z92Vb141H00xTE0VX1URRdU1X1W1TdW1dE0XXFVVXlkXVlWVXlnVflWXd10TRdUXVlF1RdWVblV3fdmVZ903X9XVVloVflWXht3VdGG7fN55RVXVflV3fV2XZF27dNn7b94Vn0jTT1ETRVTXRVF3TVXXddF3b1kTRdUVXtWXRVF3ZlW3fV13Z9jVRdF3RVWVZdFVZVmXZ911Z9nVRVX1blWXfV13Z923fF4bZ1n3hdF1dV2XZF1ZZ9n3b15Xl1nXh+EzTtk3X1XXTdX3f9nVnmXVd+EXX9X1Vln1jtWVf+IXfqfvG8Yyqquuq7Qq/KsvCsAu789y+L5R12/ht3Wfcvo/x4/zGkWvbwjHrtnPcvq4sv/MzfmVYeqZp26br+rrpur4v67ox3L6vFFXV11VbNobVlYXjFn7j2H3hOEbX9X1Vln1jtWVh2H3feH5heJ7Xto3h9n3KbOtGH3yf8sy6je37xnL7Oud3js7wDAkAABhwAAAIMKEMFBqyIgCIEwBgEHIOMQUhUgxCCCGlDkJKEWMQMuekZMxJCaWkFkpJLWIMQuaYlMw5KaGUlkIpLYUSWgulxBZKaa21VmtqLdYQSmuhlBhDKS2m1mpMrdUaMQYhc05K5pyUUkproZTWMueodA5S6iCklFJqsaQUY+WclAw6Kh2ElEoqMZWUYgypxFZSirWkVGNrseUWY86hlBZLKrGVlGJtMeUYY8w5YgxC5pyUzDkpoZTWSkktVs5J6SCklDkoqaQUYykpxcw5SR2ElDroKJWUYkwtxRZKia2kVGMpqcUWY84txVhDSS2WlGItKcXYYsy5xZZbB6G1kEqMoZQYW4w5t9ZqDaXEWFKKtaRUY4y19hhjzqGUGEsqNZaUYm019tpirDm1lmtqseYWY8+15dZrzr2n1mpNseXaYsw95hhkzbkHD0JroZQWQykxttZqbTHmHEqJraRUYykp1hhjzi3W2kMpMZaUYi0p1RpjzDnW2GtqLdcWY8+pxZprzsHHmGNPLdYcY8w9xZZrzbn3mluQBQAADDgAAASYUAYKDVkJAEQBABCEKMUYhAYhxpyT0CDEmHNSKsacg5BKxZhzEErKnINQSkqZcxBKSSmUkkpKrYVSSkqptQIAAAocAAACbNCUWByg0JCVAEAqAIDBcSzL80RRNWXZsSTPE0XTVFXbdizL80TRNFXVti3PE0XTVFXX1XXL80TRVFXVdXXdE0XVVFXXlWXf90TRNFXVdWXZ903TdFXXlWXb9n3TNFXXdWVZtn1hdVXXlWXb1m1jWFXXdWXZtm1dOW7d1nXhF4ZhmNq67vu+LwzH8EwDAMATHACACmxYHeGkaCyw0JCVAEAGAABhDEIGIYUMQkghhZRCSCklAABgwAEAIMCEMlBoyEoAIBUAACDEWmuttdZaYqm11lprrbWGSmuttdZaa6211lprrbXWWmuttdZaa6211lprrbXWWmuttZRSSimllFJKKaWUUkoppZRSSimllFJKKaWUUkoppZRSSimllFJKKaWUUkoppZRSSimllFJKKRUA6FfhAOD/YMPqCCdFY4GFhqwEAMIBAABjlGIMOukkpNQw5RiEUlJJpZVGMecglJJSSq1VzklIpaXWWouxck5KSSm1FluMHYSUWmotxhhj7CCklFprMcYYYyilpRhjrDHWWkNJqbUYY4w111pSai3GWmutufeSUosxxlxr7rmX1mKsteacc849tRZjrTXn3HPwqbUYY8619957UK3FWGuuOQfhewEA3A0OABAJNs6wknRWOBpcaMhKACAkAIBAiDHGnHMOQgghREox5pxzEEIIIYRIKcaccw5CCCGEkDHmnHMQQgihlFIyxpxzDkIIJZRQSuaccxBCCKGUUkrJnHMOQgghlFJKKR10EEIIoZRSSimlcw5CCKGUUkoppYQQQiillFJKKaWUEEIIpZRSSimllBJCCKWUUkoppZRSQgihlFJKKaWkUkoIoZRSSimllFJKCSGUUkoppZRSSimhhFJKKaWUUkopJZRQSimllFJKKqUUAABw4AAAEGAEnWRUWYSNJlx4AAoNWQkAAAEAIM5abClGRjHnIIbIIMQghgopxZy1DCmDHKZMKYSUlc4xhoiTFlsLFQMAAEAQAEAgZAKBAigwkAEABwgJUgBAYYGhQ4QIEKPAwLi4tAEACEJkhkhELAaJCdVAUTEdACwuMOQDQIbGRtrFBXQZ4IIu7joQQhCCEMTiAApIwMEJNzzxhifc4ASdolIHAQAAAACAAAAPAADHBhAR0RxHh8cHSIjICElJAAAAAAAAAcAHAMBhAkRENMfR4fEBEiIyQlISAAAAAAAAAAAABAQEAAAAAAACAAAABARPZ2dTAABASgAAAAAAAGQKuS0CAAAAxfYTKBQB9+zg7+vu3+jv293Ux9zS1NDc0ACaGTpmDjVAuiCgj6XKO/7XW3l5ffryuuP8jvr81kTtOI7DHsdx0MWlGlSVteEUQLKOf4cXrd2T29jXJEEWn137nub7w9StvXyIT3stl+2GDo+fmws7+NrWeeFZkq/iY1hrrbVWSvpIwsQMEeA5W0vJbacQv2K0Xu37K0dBEATBX+waNDJqFMWMwIPpvEGZEeEQ3/1XxgHtskaYd39IwmjnfN+Prs2g3b3TcVLMuwz65TpnFEPBANfucpyVzhkP6v+dFY8vBxxK+Jf/f+1RQf/MSzPhOZESPjki/tqDFhSj28f/mzAR4I8JqxIQVAKAfNV/CAGWASoBXqtaVgoxJQB0P3cNaWdtZBIHx7ZIWveqXL5ieesOYD3et4yDzdNYM8xjlbTt7Yl/57XnhPL42UtvXCE9HBlROdRbqj5t8ijTTN6IZePut2JkbOnMFdNeMU/MAvTVoa3Ob/OwAv8RI4u1TIyEdSc7Llm2tjRdNJgc2QNhsZZcrJxIPBqi7a0pjnbfR7K5gqURw7zrjIRfIKc3nhTyyMlJx/KjKQcMdrWnP/nvf/w0zrkU3XybKNp97kB8Ee/2l+xnXezop95lf1AAa/dTeXyz+uppoDcIViEGbYAB/8wAANX5pgH+jAIA8JsQAAAeK1snDLQAgDYtAMAiEwFAFmev2ZZaoksxEQAOjSSbqmBU63rn+37aDpYoEP2svzb37/YejI11688Y+7nP4fF7bxoL6rMzanC4d/+0dzx/UsQ6iT12UejHHNvT1VdIxnl6ZGSQEHBaskqkTQ6YA6VHVvmYkgViKHp+23zklGb7SA6ZL8C+adk78DrVDFr3dG9aqqjTc8rUnGg4l5W3bLxyX0p6IqOtGoFTZrY6rLJ4r9ssJjLUEvCRQkS4vrjKqYTIxYLdBb7P5fREB5Pywgfma2eY+LkCrARAnQDwhRkwAZ7LWmaGcjAB6H7dh0gWNxkliCEgZa/KQbQVyxUP4WJJbPrWtJUmqtLW/ZGa9Pv6zw5j+u0Qb79vhoWZBeWSAidk2YI1udjCpc5ySspJRVswNVuhqGPgmHcnypvq333vAS1rkoeddm254Hr+SHpxw7na5GgFQfJ0XGICs1WYyt7Wgt0eEJxM7Yjfn/tSU7X5OLqra4ju1de4LYodWvC1QpiEag77sYLO20AZvX+srBiXcP9nUn3LAq1ENpmwjdi2EcGMhE8OR+jpLipjkUo/H4LdtqKz19YSANbl5jAGln8XAMChQMYBAKBZAAC+AQAAHhubuoSYgkDGQu/V+PWHzqXNazYfgu40mMeOFnSTCTZWaRC4RsUuhf3Wexk7qS/8nxxnNknU9MmafubfM9teU847PUloTTMNXolrBsF7+8UdPoXi3qApR73j2ArFJ4kuYWi1KXXJR5cqoCbeteUP2qK90cr5KiLmoXCCxknbgaE5axhyMg1kpRfOLuwmGfUp6cnjfjYrk03qmdl9G0TIq4kDffmm5Cq0Rk9NvhKkiPaRfh/u2m7Lv41PgXXjCG4ac2WzY3+SOKa+3ZlxlLZzp4Td0qMeY/bmfwoQ1TagELhOQuD/yrsfAMBZAh7bmmaBZBkDEej+6jVLPbKODskBoWOIjl69YuWyMXAH0Ku9NbT+TY17pi8mbd6O5nu8+aeSx5e9/PpVtOS9Md04DcgpnbSiWtpC4xOrHmuFdnPSxtXXRj8He4mO11LTjZmtWiXDVGYKwnpPyg/carvz5Lut6f0wcOPz2P1xIn7f0sr8REoqhKUycTJTrVi5i83229G2b3c86Ti2c4RZwJr9eX1a1zeIQOO8qUPCA50aEcNm8c4otFM6MSOCsYjwaPDGihx3kzclnMQm3E715vzpWnZgtvPLicdkEqZYwXop+neJA8wmwBnYmwAAAAA+WooOgvccAPZ//QaMpuOae+3qOMgjzEZVIDKiiuoDYYCLtfHtNxLS/rgz7DX8jO9c3p8e9fw8fLi2Hsux7NfKhNZ0OD6j5EVIrUNkOYmftQ/CaSqPDmN4usifSiuZTyFdBVs2C6K0II/JHGpIX7lXz76Z5reJiq3WAmJ90UdVgmSyly5cSYYue+HRxhoX6LQXzLSfVyVlspGz+hQG/rVULKh4t0oiRI8pXa1ct/NMYNn10vbsV6V+C0qz/JpILl5pnzgUe+u7EU+em7bQH74EoZNJYDAmgw6OBvMwxfgCXlsaJwysHAC+T1YvuiNX6EnTw4YGLa3ey1aQy6gVCxd4aXxn/7znlybh8Bb2WXUrnIkxUWK7pZ+Rz4oSVBWvfE03yYeS73aLZtFD+JDW2cPZG21woE8aQgPLTO+uLigr3Y5g+HJKRdZSSfykFv38n+9VskN7J05V2s2EgyoquWQyGva4v+hCYABK59nCioMe9vjruHFCzzJ7v+V8fJVae+2ppv1NNd+fUNx+UyLWUk2Kq5ft2BExDDFzv2TiIlHowK69myd+tIdY3Ikof9+9m5SeXeATrAhXuIGA2DX8YkUA+PUHjh8AAP7bOkdKVDOgIyBC/2++Ugo2YyWCTE12tM1CL6CqqqqXqrglQPyOdFibjxfyuYrGZNrob/6H0Xsii12jnP0ZLMUnqE4GE6FxZUOF1gco2ZOPnCKUfq6MVrIeHRInRu5Zhgmi09kLiNUkqVm9gDL5SqJClk9iS3/EtKEMGi9xv1yBpTteafH4qmNLLYiKX88CR+I+IsxrLk257XdtWftPTTLTU8UQVCh+B69lC2+ymtlAyigHXFhx0sxIm85i2rdU6VT+jJwZyIKdEKkpCOroWyMsvSZIArxa/M4S9ShAsU3RgP0yQJ5szWoAKjYEABoAfj3bxElDbx0AeD1nQWRNb28iskh99NzotlybVKyKDgOH2mjT+Pq/3K5LItPzy0/vrKM3qjcpGrvm0M6eQ3a/P0CtjcjaLlQaqR49uluF8pNpJjblnlnuD5mpOuLuwSl9TtxGUoVFhSSieuXn0mV2hG+m9jB424Ghec1IZvCgfQmdpT8R0620QN+AZCqOXiyFR3pDcUgPXhg2Vbh3ffupbRY+OdYgj1Z2OdZRn9RBcPIDN/rbBcWM4KaIJgeWkSzPH4cCRSY/0+mNv76yvo16dy6mniAMflySCVgA3nx7LgZam0AD/GR0QS4bNd0Za1dLop5HRbGJo4y1wgUQk3ZUbDZV1ZaYls5/ZifkdFTO33JuPPze2Nd58lmqe2cmc2VKsaXO/YAl8eS7nOnbEoPC5swozsTiwWHn93vh/4VIET36C3FjSftT0H7uO+3z5MsR47N40Ga5T6kha/6DszDBnbf4dYHv5oy+TPGFEFmZ8zSd7NK6RELOeX+9E5R2FX1EuxXX3flUzHH5xqQbiekz9rl+0LmM8NRH/FFr7gbHbZ6JPMYTp6FzEWaXZY1lzGSlAqiLaO8dAAAenXvOBdOrAwD/Keah5TF3bFJLo96DiKQXoVMAUImNQawkbCSAz2jvN2nJrDbkmxX8HHkJkv43aZr+vJBWN2WT7vRJtkdQoZrdTa149u2KytOh/bmI2+jctfVuxvDI9GV2gs+xPe4W7TbdueUa27QmWGQ12Exbq7S039z8h9CMFYAJwdat0JKWtLh6MAODYaj+nmgcErf5krF4l9G0rKuxw/YUj35zMmqGs5evPC31yAJa8hDnpT61FqcI4NK8cXlmrEwQ7OcRUn7LQiTuTsJXAwB9Ap6sey8JpXeAQCAtAEC2VUmvmDBJAZQLANyv6h2vWZlxPyBcvG8fqeG6X/GXf2Mciexf5z9Eex/sb/EkFI0mYK2zQr9nODONZfM8xYGosDx4wHAGhra8xs6VeVtRZObKn4jvQtxU4Yj6s+v5VxFnMVOpN8zO7SJ4Wx2/asK+X5q4XZh+jIAT969/ZZrukCaLYKd60WxEQNEyUN8TumVpw/miUyoucHbOyaovQBOQ6Apei+feqUX9u0hc3oFJ0QDhByUz7vmrPAD+PHvfNE7rNhAA/FX1qJfM5Dw7D1kHnVZKo5f1tsRlShgo9vH9zhxLVXLTtoTT2Dxtatp6i+8IKu/H0rft4oMY2b1N44PrvU4miM7K8NyqDeq7fQrjhgDtzQHrmYVFPxElfBgPr+IxxdtKnrhxIfn1yH9t50TNbovyq5Y/1NFUT76bCHG33ZfQF/WYVC4q2r7HYb8onujW5wq6fsqNLS7MbpI6mYTjxaoSqK4vJRkrJKRpQQB5wzIhaxOavn7pyzErugDGPx+vSkD9sBNMKYZI0VZskc5qFgapAXoCvku77h6iFwPA/1GN6Skgx2TgaKtOy6zu3pT1tkrVUlB8v822L/3K+r6razLP8tO2fI91JR3+8D1KsWY/6NaavHENLQlUmWMe71TsY7zpanmyUB5dCkuNPOYDQcMPau9UNlONtNz1NoyrT3pw1XdY/gH0UPS6ZPmbjm2yWLok8I29z57a/b1L7persAfcbdjZY63iWvDGSV+9Y3qG2Rt3kyDt6jlXuH57Zuvct7u3LDXib1LFyOjN7M2vrbK6Df9sVMHtmVMHAKWQug5bglglAGcJHjx7bB3O7CYQAPwff9QrVlsTc293StCrY0evICbW9sRQAH1NPfzLOhI57GzHfw5ZKn9bm9yvnFOqKx1Q5qzOlGEuZecxJ95Vhoxtr5kJ4y1nkf/fGiMxXy9KyhLVM7tUe3Pw9iSRmg173157ixuRLivmQs709KiyOpDiXTLeLi6rnU4sA6kmprfBYN0w6NGlude6Py+wFachIcde9Lwy52jn9Ybeqe3BWJku0WfmNlX5Muq5DMX23xD0BfBCPtn2h/MaWE48sesxI/IEzGp4epijqgLeW3scHjH7dFQKYAUAaJuETojoVdVjbMqHAeBeAgDP+ofY9CZpl9JtTUt2fxeVtBOSQuWFd3ryVGt9OZ5q07ChhZmLzLwgXX9/iz80yx/6Tdt2OkNoW2ifDGz23OOElD+XG79kMpjcj7vKLJEkMHP0XhNqgf6H6BkKgbAEa2riWYO2pJYY4FfrZoQOnK/iBcdo0bsyDO2PSM+ZXOuhFGQSxQNKVsdYt76z4+Q0TMAlynTSu6HyrCrRZOU14THhca8B0dsatxHUfT8is9qMlfpNnku7nQmt3oEiILACAFiMzd3sHLkjV1VVEL2kAIpsAHAuf24fnznMSwaedPrgZaoL1ZDRyUKp7s4e/mlH1Lczg9to5DK1V1ZX1Gt0yKKcHCbP9NMqaW/2xkrTU2i87Ax2ywar/7eyeC4B8XxeOUiETFr1H09O+CWilkqFTHWKN86Z4uUoMftrv9WnetSfn98O0x7rB6gYIrcrBdINdG6XXjExBCZ6X7U3zRfOQ6rtYSLBcVNCRBiIbphXrDUemKH+FO76dffu6HqLHMh/kpWJQVaF3VWqxptnnjmnBv4be2890LoJAP99chidiD3IjBVDLsgdPahKqlsrHQCrnOGlIZWHz/9Ts1WsMTf35VvPb/76+DqXkylinJlNfQ4G5lKE1SxxXxy1kftBMiKYcmvF0IFyFGfrFmZniFlY70mqxbhtNJM2L0qLfhrRYi9Fsj+hEhORe3orQ2DaPIq77jzZbcfDLMIUMdoF68BoSZeJYa3RVBMjQXnNutbK4dFIbRNRaDLqwv2gs0iZ4oZNjybVGt3NxTKNEfhFQSTLW18XQCHhVNGxCqNDPwAAoAFPZ2dTAABAmgAAAAAAAGQKuS0DAAAA0wp5MRTc39TPxNfY0tvQ09DP0NPO1MjFzr4aOxePU9OGBvinq7aHbNsR9XzUjV2H1iHktnJVVU5cYQB09yHttnCbNTmmRteYYN4p9cUKtHiVScJxrs1vZdoV6+WWghenah+nvoZzjwsNrYxf874XiOVmybpQRbeWUYLlIZVkqz2+bzMbpdrxYWjg8qU1Y3apQoyyiMdQ/GKbXispJ+s4xjti03yX1WL3D0bp6/f0P3T3Hn4nx54ei/gHlTh2XXP7Nv5TTSWtI9ZbDbDPfGSy/tHo+uIu623XI91FUG/VbS8dHuPNKYZ9ygY8KfEOhgDwO7wrXgDeyZqaAWqBqoO7AgAsRiCI3F00AAm9fFBRK4cCLNDCBVCUCQA8htHP475UUvuFhD7SU6sWLyNRFQBgxS8oOpoaWSBcBkU8ZWkRt3qTHt/rfZu8ISNEMPPMLKGurBms8dfzoSqAyQlx5x8Oh1uJmHeHNufBKQjmz6D5I3vGBIEwrmsHBjZRpp9nWscpajdwp1xIZUEcDrOdCGlv2TaUbu+NiUJ/fp+T3jhxHm1Kw1jvJ7nWuxoC1DvdrlYLiwXfK+yRYdQAz7xb9Si7SHFT3P0iY/frVK3aUAIQCwAxDAAAHnqaRgN0AHDu89/OaiEdugcXImZ0m488KlfZXtGoKwwAS5RfxzT3y8F4rdXsn2e7w6/OEOp8cx+5f5bUenBCN/QhVrWv5y9ZPYWe6XnF+iBKYbItAZH8SDQLUnlJbMJipOi+3GRcTLiZHERtrh84v6Cb7F5oBbdZ0MwupeRaebgVMWUDsaZ3nNPlIdkM9vc4XslxbWe2rb9SxsfcjCgTx1ePwIJqRGoxFzlXF3PJofS5aJ93H0lYPO22thhGS6WiwqGgRGD+irAFICYUOhl8TbyYBQDeqtquEhdTkFgICL3fVB0hcOQYesl6WNbl6Og95sCUVxUQBiDWPU976QhHeHPa+3+1nOdbPvPVnm2H1OsQ2bMO6vl+wHR8QtX2Lo2GFatdzEDShob5YwWpuNjo9FPGFuOvFHiXTpUHbatMaflNVnQYCpSW28+y5GIqvjYktGYU3blxxLXd/bJX6ZpscjM2OcJ7SghTt4KpWbCiwNAsnGAff9kj19zpUZv3QXhki3GbkOpXO+SeFmY2BSl7nnZS9mChk4GRRjTAf76zjkk/FABem7qcEuiYAPT5ccssOow0l6PJUNdhxCrplYjUBtY7RGEAOkazVq77BVlGGvOa+vnbtKlgzDhbWQ7V74eHs0MP1Fvdi1PflGqoLuxEhPjaPcCgXkrASSG8nuq8GBn85Flk512R+wtgEZ3cxY4ZrT3+WqWUwivIJGVx1FDcOCe6dyuT0fcYZZ/CBK3UvWyVDy1gPQZBdBdUiq7RIrVQXMGOVcgeXi3C6eRcFYGTAobZJBRTu+9RJ3DB/UQzkc3oFfOTvigAvuraJwPeCgDa382fR6aAK0KCJELXenslpVWVo6cA7pBhSuNYwv+i2f8p5213/T57e2uWxtYjjdb3b4e8r7lqb+7MG/WpyMdNFBZffCnfh+H40JtDsRgGxYyWgYA4oP1uM5tDfEmsbS1U/37ph2c8gjw7/uUOhFPdZVmilFSQIjsga2V3i6hKijMYmYv8FGcXR9zF3bShtzou/bWXW/ilxbmA0wVAmKg5AvnwLnInTM5s5fNoZ8KoOYJqbTPLCLGV9QSEbxOrsHsYPk8XxAZn5aIWNUOGEgC+GjuqQXh1uwD4VgCARM6CPg5F917dLVtJ9BTAPQCgt3Gss3IyhGhtX2uXs2ve0n6VSFmd8dJyTdXbPrzfBQFfBx+WeybdysdnHN6Vs0pfVSsDzx6RGi2IY5FMX92jCeK13DnEgPa5zZd3qGBDKorb2M0O+ToaF/VxrT2aK4UQAk72i7c1mQGhkOjbOBCpSt+Nl6i0piYxWFJRfKVzdo7O+5p5G74+VX7qUuvcZ0GEcWHCiNchASluPSlGH4dZndjxcwjhxY0nwyH3UOSBv0Fp3DLK96J0DwV+S9vuHmVOgIDACgAghLoDkeiloiCoiolSAC8BANc27d6yLtFn1PGXjtLx66QjvuyUil/7Sw9U3dx0YOZ5g1l5x77ZCkeTkRzll9UtF95HvQ+h2U/JM+iui1/Ls7kfZRAuiUfps3198+XzXEMFt1fvI/yPZwPnApzkHgW5CvrqmyVv8k0gNwz/UZ/KytkNAYoCTJtpkU4Bph8cHF9D6XI/CNf4dfICnob3/ZsnlHvFiI+edYVSEOmuj/Ttb3mfhEHk57Qgc69br/U9SK5gXP/9AQTeK3veHcLOJqEH7qO8NRyi56y1rgM55yFD1LmQYWmAXtlWZWMEhQH4z/TVqvaLspMbhv5JanZua6XpeVpZvsGuU+zo1o3H/d1nSHe2MJ0zW4PerwISCgVvZpfJymkQYZRnE1OpnVNdSXR2sc3XxPjXPgjztg4lVcG7k0jpCpqqh/3D9u48cU9XIWKwoATuxvLehGJ1jAc6vOzRAweGUZE4E9fE4aye4cNHDfNTLIdg5byEKn1h5Kiz9w5XnNDRb+OnICd9aWT6zES9Ihtmxw2BbEicrah/2T/hBQW+O7tvI87sNhAAvNq3mqU2hFeS2chdfeju1qusNUlQXoULYKT9G+vXv5mN1fIlJpXklS+p598duhKWgqgOBd9sutKWEg4cJbLvnmDFPAMBfacYqXnrTMTNc03xI02Rvu5K7qBsyI1uTNz8E5m2+QnNu8NAFW1W0UnqEw9oQXUe9Vfso+fp/eFyb7GtBZ+7Vi1feHuas69NJLHH+BjHTk1oE+jVstZu6yIQnVxT8ED1yVfR+Lcm5ieTZ8gu7qptXY0ALMK4RtRPMhVX4q8rCAAAfmu7bxPQO+gAVgCA7p2jiSGN0OZYVeU1LIUBOA0AoP8+/qb7lOH3O3TlI+tIzeF+c7OnfXn3xnud1vqnHD7N66zz82r0vRcyQw13KlCymfXsxq6w2d/r5IyV1yrQ3vQ2zS653Yqj/6RfDTm9IZx0gTk1ww+Iq/wYST/rlkRA+pZ9SDomkj5/ThBDU9HqHhm1JDqdUnmNxODyICVpS1/6Y6W4koz6pSr4sWAyD36XmfVPJQuvrq7n5vKRCdQirQi5duck7JbQtuhdNkrU0d7RdozAAj47u58RKAkIkHUv7w+doiM3RhyHCKx5O9f27Jat0qichnoBAIBzXdu5nPk/4+G25ppU7J395bVW62GSKayoAMCxxj35oxN/f7syy2HDlKK5zPTjZK5dC/sQYWXp0TW1LyfpN8XNfGSXtWEZatHpkDJ5laZuxTQi7IOSIG7QtCHMTy2AAedzMOwQXyzbn99MeHE90CwsZt5tIScyI846tkuWv8meDlFYj7PWDvndmDfPGOEZ+KNewSgdwp6VC3VKAqGq2GU1/8MBwjR8A9L9qQCemlr3hKSNblAgs3/rjDky1ZiqI1abzaVIWi8GAKB8NKNb4xCycAGEIMeZmLSfGtLzPDc+JvsNu/bjLT1ZrJx4a+liRKGG+jE1eM5r8RoxU7TcIH5NwekZMqK+d8LGvpV9wiMeDVOqYtVoBmu6AsxaYNxQmzHxjR+mM1FCj9V5vG6lyXKWQjoZ7RDP6WupdGdT7gaTX+taq84InqI1u4ASI8QiYZdUHaIQvyd2omp4cNdVNQ29DbNB2XkdwekECgAplDps+e6lZlP8TOIBAACemlqXCMyNiShZ4/5bFRF6RKMdVosYmRp99IpBUFYjJWThAth2kD6JJoktrnLCtef5xMRrlnyuQZ3A58O5dRqNRt9zO/Kid7jWngpO46LoTupNt9WZpLalmhFpd5T3OLQS/ghDrzyYE20SqpJFhutVTymyTXi7GbyS47lm8t6VsGxhyyqje78UGf4gZzyf5UfzRZGd9R6V+vMg90+HlrvNLmavV7Tq6XusuOt3J+ijY1bbABw+QEGD/slI5aJh4LaHq3347+NbptzaUdaIAQAA3prad08wc0AA57/+ffqM0emg0bUx63nResUKgmyVBdMQMQMAgM+TXcW3DDs+yV/vp53fcvw+TbQ9IY8DFRAAeAxKDWYzoJQ5Fy/jsNvKIsfvdzxdlYQc6i2PcwXGbau83x9UahIfrucse8/us5GnKnOzY186LPHemwhJTI6eAO384bZxZqgm6OGGi6OexA42JKruEf+DRcGlSy2InytyfmKUrnF0vBISpeyXJ0Xhm2OspjF7rItCEncqxt6e7spmQ3MyfqmpfqNMAAL6O5+561fEAD6aGntE0nINBMi6/3Tea4Ve5wq9g5WIXXXbo1a2iVUBYQB2cvOxyvXzOEfleOari11M8H4sa/2fRVDnZeOq68dtt2B/NR0wnOJCp4ef4Cij7Lmr+70lkhDVOJynwWbsvMvO9410gpOXS1R3revCDpZ2vY4Fkk4GFHEiGKolHDO4fBRplwfyObC7zmLvzsyaXzGg7lvJyB6Md9HM06LAPtL39yMacY56Y97zg5LSMRQxRZN1z2q0OYul+EUXOQAzDXATdLWldxLsKzhnBWIBnrqa5kgwB0AKgFpdAQBy26akN4LFfDQLQC+1lUQNCwgXgAIAWM6qHFjPOqy1R5jL6+bI5x/63B6kun8Ji+nLRVZzscTk0rrSyUxJIpcWkVhzrexFDJHDLF9jL65lhhCBt7zQbxWi/M9BC0z8oGiKkuWPbOt+oRD88t6vzCjj9q7X7py+TXqDpKQs88xqZyGEPENkWI9SVVG3cOVBTYD89oJrMpYg0jblzmH+6Up1Kbv6WZJq49+ziRwssKkwSKbpePrXQDkDAHK4euiYzvipFXYAAABe6pqSowiAJgC6FQAA2U222tajaZOqwBiVAsIAFAEAqMYO0r7zs21aU3/VJjI9tI7dmsjbbyGq73Z5v218v7Xr5LDcmmaNjB7JX7CPqXruveg8PGdllSHTkRwgefzp2GHLv8Gr4fa20MsLe92m5UetaFKUqQ1dZ8p2VikVQmT2iWIcERcrm16Wz8EaTLS977i6Aq6TvcY2Wd9lUba/xeJBQu2Puun2QLQQ3q7OyQZTFyml5O3WUk+YADrQuNHPgFPq9OGaxWoAAH7qmkePIIQBQO93N2pS6s2OpHlitzfHUiwsIIByja0KeyYKAxCW8x9L+2YwssyzzZiq9EXu5LNtxp/UDxkaKPHWnEycLxI4hGQqZxefxIxa5lYyQhh49QOOSyrDsxHtMh6K7znm+yAu1RRJA5nrNDGNq+5xQ3FVo0L9GXnWHh0VIOYyk21KDpMxIjP6jyvEzNeh2+XshcrEHQSO3RzhXTOuPhJZwuOKRAflcKKU8EpmeIYccTBqLSVDygIjnt5OVcefiwMAXts6Do8yBcgEmOn99h5Jrnx8vVCPet5GrO5DryoTlJJSUAgBsH5JOWa9LdqwYv/v9DBmmL5yx7puN6dV9rzv5bb1qHAlDWmd7TIYu6kqqr3YzV5Sd3uVKbYorv8PfRMRUjFAFirwCHVOtqPFgWEbZx8m2w54vI26ntzs78c0OSF1H2dB/VfJ9rndOLb+G5V1kWxn9E3HlPtWU68zMts+1p3KF14YP19wY2NKU26cY8ZXikpKf/ePYxdpMDI7XhFNFwBmvCSSuuX5KwZgKwBPZ2dTAABA4gAAAAAAAGQKuS0EAAAAvfafLhLY4dbl+erh5unk3efp7+3j6eH+C7vvHphloscEf8ubSkRE2M3NTXsRtpeOHiuqbcrGKIwAmGvin+wlRmFJPdmJ7puOcz1e2fvbxry/FPmgKe3wlur1o/2Lby8i4V0pjwtfZFqeMXfDUAaG6ZxAOxQP99FOppKM2eDg8g2mtIzqjWQPwem/NDbs4dz8lr++kOrlF6JnfF6HWCuFxfpzZ1VN5fmGegCRdDflUX3j7XEuf6Y9sSaV+rHPnVS5yvby7UipAsofqz24qrmHm1i0aQrJGHO8NdkQ2EjqO72ztZkqf6jm4rZds3kBPgBeSzvXhDO7DQArAADtCLa7tqFXWVvZV/dCABQlAPDiS0yaj7rnf2zNRTdNdJRLLxROL40lpux0dOzadX+XPDbO3ssZLsq9qWoYH8Zsd5xEM5NFbkj5n07UAB06R6GrvVpcU55EaL/TcI89HP8nOePrRNEBMQP0ysxH360xbUkqtRKz4HR5Mk5a7EPMnpYTiocujCogBO8NW6W3RvvbP3WDVceCrqBOyRC9PAm2vs/105b0MQwcA3HzfttxZmLyT9SCnPIZE8xxLTJrW3QeBqvzeT3TLw6U3KuOKKjriFosAAC+ylqaQdR0AxVo/rczIsUah7lny270GHFA9krKrbJBVCEAlmh7YthV7tdml/nSucp7ffUzjPbfj1onjRWc9vq8J4w3awskIJTcxm3NF5sUDyCZPQ2MN4fBwCkLWjGw+WVqmqXA49ilh+F4D00PirWKD+XKyIO9JMRtaQK3gtvY2nvK/gCH17XvAgLElS2HTMGRCsF3dQKFZZzzdX4+LrxbyRrlgCXE7Hzs4WguLn3Ti1UUU+IZINR6w/IyDVrdDla3ateF37ZY9mwxMG+EVPEuhDNhAQYAXkpqXaI0gAJ40dmdSbbeGCFyQNuUejXlba/shgDouXcjhIMCZ4k9TGJey+Zv2xznP+sUX55Z3jdXkKj1HX57b6f27fvghx44bPRv8LH1Dkew/y/RMt158QICvEvi0yYtbIwKx5DlcRYAZGz18KJndoEPg9jfLoFU8vey/7waNA56d3BP4hoJmVzhEvlNyd7n6/vf8tLlvg/707udzvFuZvC2nvrMsmo3jj5icMuIkjluvipcJjVxIzcvAXwUHjcEdFQ2u24qvfa+SK0tFn7sB/BPnjLawa8kPY4470Q1UcMB3AHQAV5aalVDNUwA+Fwmti3R2ZmH+5i7kat36w0AVPkYygGI1YxKYihAbPZmE+6gSP6Rk6wxLOjaljTxlUW3+azvb2Z717Bsc3OQZgPNYzNJ8JDm8M/7guIewjF071kzPzvpJnwk7sl6Vic8GYSOJMB0APcC3eXZO+yRghbLOi79Abo4TIhOBqpvTEgsudWMNkTnHPZciobKGC6c7TuMGB3GAIf/iVhTcSIhg2hUyyr0PlGn0Je2+/5RVMgxoCmgx8yGKHYQCwZbIPzoHTMIuez8ZejvBfgQzZeEGfPlN4sb0pb5E8x+71uqXw8IAAAAAOA5TKyBuTeUIsYFAN7pK65A6zcDJQgmha4AANtUouj6cNBtYEsoaGKRT6bvKQBgGm+FeSE4dQBADEHvSPxITxMTF89UXXa6JKW97zBSnIICFFIfz8NdygoxdS/adyWvcfzwoPHDcbOpJpfbFOa4s+iep3Q8td4EC5UXarsekpjTzxAllOKrzxA24jyV4jQL4ZO/mP15HGsFbDWWBt5dAWY7ONuaV9eRIQoJjAMn25i95RRNv4jLYH1RXzW1HmQ/LgamQtOZSYTbQAIxwpltb64Xv15cFc6wIwL/FbnIRlJB7nRN7MttQnkAANgGbFL+1LD7WywBAJ5KXGsKHQIFVIMrAAAranIlbVTZGALQu3qPk5mYSwBg1BELI0RhGB4ALGIy23lvn1NbvKYDs0Ud9wjc9cttJtpFVAUikDsoWRVn5z2xiVmVd1qVBErdv2iEc2UiShWfpIKs1h61FDVwJw8WsZHclsiQta8DnHGK2SB6M6FP4tPCHD7r4AV19Ugd3TlwtR84G3Ay6li29lO8X1ZDQZ/MoKKfcipuclfdlu+6Jyp3ZtpdIHm0clJzAZdGXr2D6KhSKsIwx1hJYGB1U1Ey7wDszC3sEQJxl8yXAPAOwM75L88JAD66G3sC6gNmZZEyrAAA5pFyU90coVdV4GdcRQYArGAWSQLhYggAYNq5the/ft/3Vm3qCYcUAACP7z/4bJkIsQ32uP01Qwoysm/XZ+R528+B27agEfjDAKuwQjzudm18yUsdWwQaNcRMRqjKCjJ9IjLy8UiwfWmfkIsmIqCeIYajwo/kf3EiJB1bvPFuYoEhzmLmGIuekslwO1VH5qPLzaJQiTAYToGon6AziQu5T+DUuOcTsoTAu/ZRKRCPm7jDcJ33hOfBkBoAgLffBIu82GOuRse/f5eZuy8GALYC9K2avPFYiAMAHkqrzoFXZ2JESMH/P0yQIfPYndWRiXVa5wzdVAWJOJ3xlQCw5SZz1AIACBf0HsqqMXFZu7nfeuPX5w3/O751feeNlbSmFEIB1aNqng4A4OhVD6eiswja53gWxkmh8/0iKVI/wO9uqk1tqnQt2Me04YCu5r8JthO5e6WO1wELYkg9LZrpXIqb4Rrnzx7xONLEiUdGC3yJwvoC9iegOemdjpXlZPLXmA5xDjAh1+d+wTiJu6Kq4Ci4Yp9TFPc9rMTggW4fO1ZO2ouNqVz0QVm/B0wA+NQT76xcWrLxKQgAQMcAaL29Yh9vAwBemqpFA9MAogHKn0p2RzDE5kCmOIZAZo5KgiBIt7F1AFDeCwUAtHCRBmjKAGDNGv5/Zj3zH77kjt7O/sfVl/9AvqdT/MwpOCAAXVCirFZrW1sAD10OBeAZVgdf4U2vrhXBqNMZPvRap/SxCc24YlHu3P108tOkcOR6kfW9VzyHAx0jO41cPbV3w3kxmT2vVt9k1MwGP1atoVdLFIrRbWRPTH6ID5kEJtj7Yx/OzsHTtjGmo8OpGZWxWn2qUGpry87/fPKSHso+8jBLY5MhxZvBaAgdi8JFCuDOL1kfRaYZ/ckiCwC+yXLOAxMgZEaG45+TgRxza44mHHQI9GEr0HSOLQBgS2oYacAmDUD1NxLGOVxQ/+L8xByJFOdx/ElFeTWiAAAC5QT1a5u0CLC3YrfPX88x7X4tp0v7bO6oL3HZlqlB6p3Sc3qQJIRVng5bSdfOy8+ZMOjFZ/97R4y87ss9f9VRgEjk0EdvSMkUF24/QK6cNDWFUpS3LiVDeb1wHytsbSSGXMEUspuU/pGhXHYH7xW9tRiJLkDkKDHDt5kXjynXqJXU+Le4BuVPNyl8+hOOI1yl7Nxxz+toeaN0doQEAN758t4DpUCLjA3kd1y6Zdsd17WDbisiWmu9xx7YdJ6uAEBgq4RQ4UI/ZVjz9Vrea/KdTc70EM2/6lk9Mf+SWBQAgNhzsHn1YKJvZFPuZeb1jkBcPMbqgMO9NYZBT+juxI0oB8qYOTOOQi1s30cHap8ersXodQt5zXiSoYL0rtiQ4ZGQyv7T7AnjpOY3MlPDvfq3/48bE1/rEH8MO9jDutHhFXfgl08EBOlTwz13UG57QXZ1N9Cei5oDF3PjWBnPBa02RAxForP6dgYhsjvD35kOEWTiv2xtzmS8qhqi80nvfX6See4AAP4J0lqAR84gjmyRKv5P1qQ1onXLDcIhO6NXbytHndmdqBcAJlGxcGkacAAAzSZ5fN+xTfr15aVJkvO3DemreY7z861/QgkOKABlEscBgNbGP2fcCj6fq6PWvOkjfWucNnixDHJ5Mi1US2HabBv2Qx+Ls5bZXM8WLigehPMSk6KvpLqYnEgHdNTiI45De9liX8KFXHQ/brxsq4vwpcA7Lt0spq5tr1f3IzFmOBjCtF87iq2feL0IO/towOVchj/IjPpXjIG43GqmPIkrvaCOequm4y5zNhkDi7WLOrFTplQ+bIgxdCA7oDMA/uoaRwx0VZAxove/MT3ZbLjqOLLbai2NreWouAEAHZuFjZEAcN1oRxrABnRC0VOzW/rHJdWv0rZNErWPeqfEkWZfBBbpeEUFrgzvX0erL60r6gAQrQAMiJ/z68F+0jpuLk2cxgInhLE9+0wipyy2HrLOXdgwEfZ9+90iVLw3ZbrMG/BKypimECs8kASNOJZ2azAP7Ig086l17tvwcJdItFBIl2SMExSITHPkfu+oToSuBRL0tzxTV7AHqpIVe/l3cc47vC3iYxft3f0A7dkG0mlbKiKLhRq5o/WzIijccirU1xMCANANHyACAADAHQG++1oXBMywAej9dt2buneuc15JmtPcs95efQJAJIbtI0ZbUVC4QDNj/bx1z3/iOo+gI3ti/Nno80sKKdy13UCaXRN0vD77cZaDschSZ/sEaZnhtdD9EdV0R/S602E4vLzIPcRFXp+HpCDH0txE+xrX6ms4FTJffLHS37BktF8jLYZ721EHYvPMlf/NBNA4M++vc9OWKmWvwWZX9un+KMDhzh1QOS2nctMK5ojXB3rUYoinM9ta6ZIFJQe5ZccK2NKhFQE6zyTfFtEvYA3e9sRtUQfl5BtSrG4TO9pLg4KtfoVOiQIAAADvAcDeHAD+a9sPCOgNzg3e/+ZLzBnshj4cgT6gY3f13Cv2pJKKIQESAAWO0+aWT/G9xCB22rCEvIy7qh46lwmAGwDwAO9hM6lDRq1QZ2ZHziBOLTss5Q9z8nSwsoadIqcAdupTkNmv3HukT/xYLiseTQSMbBNFM5FDqaDtvHQtnWLzfR67uOitaSr1a+gJSk0peuCFqQNgRMOzg6XIkTKoaTEJ6ZcKAEZPVdgJOZyYeJ5lQnc3ikBjPA8Jsyj0mPanefBcIPEawcF7ivXRUrw8yg/naySKVCr+399fcqN63MSDPwDKYVQBAD5LW2YAmBt4AlYAAGJz84g2NxbNShYQ++hBtEllhwK3AQAOE+0S13X/3m9bUPrwMPoUWsTG3XedpHAr9R3ZIzVNwT27evX50P11OiZ7EW2OQGLW5nnXvX8zhZjXotZgVDbax/XBD5CC0LKuTDoTMjsh72wgeejm8nn/XO7vrnuVPYXD3e7NnWDyHwHYMr6PEchUpNOF/dk6r94RJ0O8TkNkrnQ/LsfLnBGuVAouBaQ4/gIWn7bPeyqkLZ2n0xTLPcvs+aCVyGQPWAR/+nWx4qCJj6LIRDTyy9Uq5pZNEXIhAAAAzAAGZVAAXlubFwkeCyjg/S5VNwZEhrkNmYh6FKtDN23uVYHaxBUG7Nbrqz0r1bzKl35q3rSeVk9X+VN/FTk2u/ly/3GLjIfL4HdQKuHODnGVG+RB5OnCMvuVPv9oh715PfYS6Bi5Z5tpptvXfNcPLaWaZury0Pvq1fXJdCrdlAVkVHasbuBD/QsNMxJTEoDaI8P2agsxPYHCzcyaWXB3QC2TGltX7w0Gvt2m+uiIjahhpKVD3uclfb8ase89v8fN6uqVwHo/xiyAMlcliDPaMvhGOW4h3iUQ1GAr734AcH7GrtMSACkDT2dnUwAAQCoBAAAAAABkCrktBQAAAHWbEf0S4uze8ObQ497v8+7h5/L16fXzvus6JgZT1ZbZoPfbp4kjYDOSmlInVlqAbalBkJQNSn3UnMYCoAFkqbh8U2cae72xLDf9SPL3RZMTacOEuJrAmtSN6s6yASjAswJ4WkMgtL+DcmmHEhVgZyA4hMARZU8hvIo5tkFu/PJsHZLZcUM2csAth347p7pf3u9wSi5OlxltCC3dJgNv5dhVS1UURjJWFO43l7VcVFqEH8+xkgTRHFG6dR8DuO1v006p1sRPrN4Rlqy4i4mTMiyluOeb7OjStoGaubugtj9QQf5HtUnDiJN7iRUIWYn7f84AOGiAQyHWBl5Mu90YAj0GxgZvf7hjsNudfRWxO5K4AcCeqr4BB0C3uQYF9rpYYmjtky+e6yD0teHl0JJpQldrizJWtAgSfxStEzZzWuSwv8wL8L5Hrh57nQLKrdeRsxZNI7LhG1rqRWE6mgJw3RX/55xYYYAssPe6niCoFWxhofQIXfUxzpgULk5pC28DuplGXy1kmB9MwkjJfigpbV4stUy/tpKvtXwtpyBdja00uVD9ihcNCwBTAB/qOx5rZ3SGxeHi0aZSq01XdO21UOs1lotLO4OoQ5gLM3Ks1gli+BE+ErjxBAAMADDhpwDcBPAOAA0Avgu7bEkcvwGAl3Nd5gCKScewxyF7RCShsRXkXhWIWwYQdo3zieu+kmq3X28hke8Za5f9smxZb2kdw7vnLydNjTmutlgoHz1fqJ65eCQiam4fbf1V9tD50kxztOWGAWN/uc7Od1PF5ljY9OcdYssV092X0tlZ8cGM5RjLK08HjfA+iObHzo4pM8fKUsK4wdhHchAsk5ciMYjhq8zBicHqnbka3YLl5CysBJ9CkUnpMystDCwMT+zy7gq760KarDFgOhgm9h3Wp5vOU2TxF3Co7TjQgRMT/gxUXcBl6JwlfgtbZ4DPdpsYwP8fnBctadlXzbFW524G9WGzoRtAcoDQcYAWhgDE3JQJRJkwwAIA1Jf2MI79zeU7deq6LqF97TBrnidmjpS/v2F7dZ04DgQf1op0k9GofaZ1Z25aBI0AAJoCgA23tZlzNNDH/RR7k2pgu51KVPyvUMKLCUkpe8q4hh0WB70rvtPkoMEhbywPU6IVkuwyKu/9qP04JLmv6X0Lpv+8rboHClB6sCKAZDAUjR+Xh8C8kaUvzkSHYke3+AElycYbLl4pKQqYwQFeKntf7vdSqP+OBTR5DTfRrmrnRy9kDJ1mPIAWGZDc/CEAvvs6rhCQC4yBRfuXip5TNPmaCBlHdiTBIbvNvqqXDcRiCnD/PYb9FJMsErtU5bnY77R5WZb37b9uRF/dFbKc81izrvgqyqXvp4nujVyLIrd0yRAlmTkfQKeks7puddO65qvmkC3GniI/cmkWDueoxTWb/uc7rxhElrHTSDLaiHfA5UAxpiKVmf24QnsJMsle9PB+1bR7pq98Cc2siUXAcKSL+dMDS5d9UDZeD/kbdqccsrqW9Z7ix06b2hGLbDvu6pjg+TJArypK2vb4Pz5w1IckA/BzATsTn/KcQfinAABEogBABQC+O7scAOAAA3yv7CMSKzt1bpIxoy1Htz1oYvSm2pRwgRvr/1qO+T4rcbZObK/CEr/zemGCe8UzKLfzY6lmb1zC5i9ep8cmxsINQotCjDB715ieG7m7yx/iKZi20sVEfb5QztZWZmhnT11cy2UJtMZRhVgpcgmrxbmgZuww8FTN5wMUgSq3phhVysdARqa3mZ3Tqp1x73ijhnQ/Rln840zVD+wOdAy1Hw81Wl2L4EE4GVb0XU2+w1sZBDiJBYmleVGbzCyxSDF1XgBgDAAfAAAAfgs7Dgx4A2GA3otfqyfBHm27w5pDB03nQgAEqF7Ve5WNKWGAuCdexp373vG0x13xyXU9ozmLc0Y/Wz89pH9pwQyCGfr508cyM289Ew7FJYRJZ8iiq6o67+ZKeDI0oE4HkODbUUegqqOIXVGQwbRdeVyj7sSiV499lFQSxuVnxHohYjUsspbU0sviSN4J+QSilDmMVKNhikxPvW0zLKnyoYoDKpr5VyWW1UCojt9TL3OHHIOzD7aiUJwA0R+XKtApOV5sl5lWYo9h1kURjACP2uP0Ou1pmEt2SDNCfAEUW8H/KAC+K9vuDKhmQotQE31Mj6bJPV52d3NFNtSBXjFXttq44hYA/3lj2m9cCMvnVhfX9lXMzN/mJTm02sf3Y2YYZp2wekJ4csuC6pV/SHTRpTttS+HuAISFDfqX0UWLmcbpRWLzWHtqZHnNH/5EkZPE4lc0pJHA3NU5ZK/cHp+ACCLc0/YADwYGtZtu4y4g00Ge+Vg8ttaHFTBpqiqQ6khv82gA57ruIcW0wX2UjeMZq5qXxuozQM3UaKXIhYfnEt54qAQG4ZmNw6s5DO9sdWvNnJ+emmsMLgYAAOb+q81KAgC+yuqRp4hmQBMA7QoAQIBGEjVqugMAUJVYk5MDQNYsAIACWwAAJoYQh6naixmJ9V8EKfFSwL4TAADlYiNWHKAUAFjTGVnZ7cjb2LuuvvsHR8R18bs7eY5PuZCA5sdH2gUR3OZuxRNd1jlzsQhmmZVkmmE974BYELD7Y+0EcCaTsu0gSpdr7e/YICAPz+dpBmlLk9vGMFb53bXATd/7TQygvOTLnvMVjPPndxTxu3/jwfnexwGtNTeUVJfuVXgYZYw7JZOuDoI/0s86rs84p9Le26CjKMlwaUc5swhh9gjUJMiAkBgmx8MampsQLJyyAv7qGkcFSA2UA7X3H3xLpE19bNqeuawk5tBrohcAxuiBVpBMC7AJ0gBgBADJ6uPil/OG9v579Gnk9pAkeVu3XkWSES0tV6hVAApcAQAAQNegQN92vX2epel2+GXZiuTLQ6TapyC0EgoIXkCv6ek6GF0uxwJmBoqy8wlRKdbmGGSA/dcfTl/0LAOT54DVmkaPbd5p4V3MJPP4kM+W6iQApEYPSz+zOlDVze93h9C7tpsalIF/gWUhzFlPa104bHlKdIHSp4DJTIg1NWRlslT6tT8AsbldGdnZtSqVVt+MTGfZcuY2whE88VgfN1sTAABgXjcrAB6rahMHZArmDVH7KVMQOzu6zpqEsTLNmp576MsCQOqlaoJgpAHAEyAMIvXaZZtpwogXf5FfTCVJ+TuZ67JdC5bAgjEOAFASFeDP/B6ebMEze2AZQ4PviAbxf+D3OXra6VpDZTu8pW+JxPWf3Yz9gAF1vT/3MYJ95wc0NEunc4hGH1WpNJgrqXPr6yvoHfhYly+Ui7vejHq9cqwF46aakk7tOGe+qb4bttyk5Nw/posPxu+2pTe6nH0WbLd7VCxDDsyOVZTKLIS8puaJbyJvWW1EaEnmTwnzGjBowY06sgWgCEgyEgcAMJ9XAAB3CwD+SmqNB4wFDng/L5OI7tixGdERzSGRvXoeOYmWVLVimgbQABDC+Ovms9149qPvZnM/xJxLV5W3ZACYAgDQ9OMt/ee4yvZZe6J6aYrrXdjHSRwo5rJU1R4DUT67DTHpZAYuqyeZxxVZZIRyW0UCASBG4gzt1tq/R0nnKGlpmhf4SLrsP62alVVSPwiLg7hnxAe2BK6lzPj/aemNcppdlAULObIjuqARDA04NCOT6smIBUlGTlc+R6m2vCBfVp8rBHzZjjYSagU9X85VtS4xU4a2jLlkzsE/6GSuZQCAcroA4ANeavIeASaBeKBv/xWOVnhStrRysCu7RUTPMfdSI64ohnBx95U/CVlnX12CNfH77I5T2ne3q424l0gwD1cbCiVnRKjlyDc94HZ8yHCls6vfAl9V+NbVk+8DWY173OH7NLWvn2fA9uhuoz2mlvXwpTZaVLQfVUpkNDh46CKzBjLh84SIiOA4FWVsT0DpENtcui7IjWiwhJklVf4qjSazbt81N0bNKjGampuykGfJ4AW3x5xt7oaVFgNsQqNMkrFJT/6IlemO/iseQhWTyD3qPLYAM/pkFRVEHbSCWzMBAPjZjAwAwO8DAAB+ekoCwNQcF43CtP9lI7McNjJqg83NrQWod1S2QZWtMuIUUEs2JvnHsyH/OSE9xppDqvP4u5LqqadX2G5vV2fWmfT1bF2z9pmv3t0vZmOWC930+Hi+SG0BK+0htR5SordLC+D8m0MODCb7qqpGl+eh/ASJU6Jh20J0mtrVbQoPGEHvq09hkTKq/EwDGG8bBjoUe+YRtw+R9RSp3eTfVhBK5JQsLvb6KfVFp89a1pdKuo2mBvazjWSMeZT/7nDPi45GMyowuqeYIXp70EE6II4Bp9YURyzIjeXy/6QXl7ynSQcqBAC4Xt9sDAD/MUAC/JgaAL6ZgpRClAVk+FYAgJ0FDYpWLEZQWwAVeFuNseLajVg4INLBkwCAIgCAeVSaf/v0rr/3cGASTg1ve7WQeHiqxAmlC7g4AEsSAJBFlmk3XFBWCiWL/Db7hhL129rMbLDh3ZR00Cv6AO1EZ+UKZXwyY5UxO1ySheGF0GOkoXypAqO9JF2Ecy9Xhfnp/V/0Ixs/6l11eZFer4/ULjRyZ8hBRtihYle9UnA+AvnlsPQgZIUH+JTtxHxw2Q4+RfA/sq6hoNmTgoJ3yRk4VL98Zto5VVZyiOyya1NSCCWMjjQMEMjOJML8ZlUYFG6dCsDAGFJ8YhOw96wAfqtKnQEtB4D/EzVr+4hF9ljbCKzWY2Ird1OJBsJNA2gAuO+Lu/fAybksX4JsOR299tRVTQMA6QAATT/cZSNP35LjKl6Tg8Vw9ZN0OHCKbbtfRZRmyDQ3Ft+kaXWqN0wpNzNVEfAEPfIkvnFEAO62NeaGWMx6ZtuS3FeMzz6/KdbEqfBIBf8nusvPkrhS62iUTX2oeVXITmTbYSVuYgqqvyOw+nr9xmeh190e72b2CUlkBzebaLrSD+DXZrvixNL13lPgiI1UzySzGo612nUa1botB7Rh0QNKZt4LiPC5/CwiAAA6XgDwawAeKyqeA2IEabACH6vNc/Y8bz1AbXs1WbNIoBtQVVVVtkrdNIAGgOP0e/o0Zh7al6jfiOdh052If9/vdrG0/jAv7dG9FABUAQBSczzEolLx0P34lB3b3CZAXhCZY20ea3qkSPCZDoZN1Bq56mJ8jZ8zHzCKrKRarGZTE1tNKFxxzsHtFOeJFZIZ1W7cjXLUXvuFkmCIs47zxqbLWOCyN9XNIKF9Zcijv7Be/4d784WlwSYHlv0BfLhz7IozzHrk74bMbpthJlbGuDBJSzKmgpmKOalggQtxA6jSm15jlmQLIOjcDjE8YmsLck5ic4M3XhuoAgD+Kd6q8gUDPScCwbT/0TJa5Ha2yi3axqZA1LLtORYAiKMV5V6B1zEBgAS4y/5iToLLaLbOs9meLNuZOm4e1/OyJLC2F9Q26R0AAIE+FSrF3PIx5UATP9ZBKbv5Lrk7Z0VA7dNU8O3xia2zai8q3jbvXq3tbh93YSNJRw6s0km7lZf5Sq1SQCKdh58Y8MY71AAekZrC9F1WBvocfbsyL8as6DW9HhCTKT/oo8VPG8+J+j+U1GeUdDwy7m47hRp6qXMOK/1ud2RkjvasmzkN7/8O8jVSKmnS3d8e34plP9xfYwMA8xxgwgRqQgzg7p/T5pFbBMYAXU9nZ1MABAhFAQAAAAAAZAq5LQYAAACD2M2fB/Lx8OTw8/S+S+uLwOkKNIHQ/f84dSzdNjI+EnQeJ2nrXfSqILA9CaoJBvBUFg8vXQLp+aH6jqTchmOx5hDGoeiu/Nm073wdsAoUJzpAt/s767AGO6sRdDWZV3m/4gNh5Vjafhd5StAmXvjhsClRYEbLuYAYtMmxV3PeGZku3m+GG+stNsEsXIWr1yjd6qHuFfxoSxkaobuGek1/XdPZCNizHY8IIsappnW/iWcHUHL99ccf3L7DqfZE3ZL5nVNGENmGkvgwd8zNYrd3ziaUApLioqP7qFQjMoI1DNQ+dehVR5kqr2nu8v9esRg+kD9uCf4aAAAA/gFGAJ67qo1B6xlQwP9jHiJzY0SaHIbdVNfqsUm3PagmVxDEIBiALF/SV1/2U1nNi7dma8vrS/ptc4q8pan9VcPAMcPvbJuuI8eT0fsFSjht92I5N/GWOV9AfyEh8HHnV8nV9xhDnBeoF4wyokAem6Th5suE9Bpz49GaJdm1uM5ovzVn7qVSW5r2Z3ElXxxmOaf3ok+BueHmpdBtHkzes9cepVmiyqD4zm1xM3/c1/SXWk4SeZJHRmXOq1l3IwvSI5si/JLx09SiPoo4lm721L6zEeMYz2mj+jGreqfBJ2yWYSNRDIwZwPmPNoBzAkCWAIBvAAD+25oahtYTCQii/ck4BS022yw3u5Yce1yHUVVur8Am2k4OAAD4v6RaD2sLaaVpcr43w0i/Za2PeK7itwsAAMDp0a9Pq/NqZ63pQ1FRSJkw0+9z5fy1xte7oghBme0oRjtTq9YTHpdtSyS7Mu4ksh2lS85SWnhrIPmI8r5dkP4WLrwZ3LNw9E6a6tI6ojUsmCTzoxreSbRl8c5EQHzrKI6noHdHUTLNZ7tSh5dHqV9E60CjcmCqttIXqjY78pa8IZH0wwydrg0S/BhTg3AX1XaEvqzQ4ZzwhB/+6e2UibtJMzC5kQpg1/c1mPYTKGVbQAJeiyoVAC0HBvg+6u6kQ64obbc0z03QRsw26UF5451JDQAA7VMrsUKOC2dz3b/akBzx14d9Y1ZWAAAA4k231ezmUFwKEwSuw4NgSpfJsMWWmRDucAuLmDHrj1+QBRi/RPdb6nNf1lpT14gR6x21Vil6o0bRUZzyb9eb976NiKuHWruYsxZ5W8Mi0wCYWMyu9AhR494nZFuPjMW+2pVGSxwm8mZmnSuJY/Vhwcn1Vh8qM3UnTqd4s10peOr9tfdLXm2BZP/G0lvPnt4KHm++ydKA8ymZ6/dgysY3wasCcyfyZ9AUC5P+G5tGBjENAHS/8yQNWj3UMm3nypGimxxNBYHNVWWSAZhDWsvfv9P/KyPJ6cWsJal0vxf38setmP977Oc5WMAtM9NFLnnXjzxY5tP3nazMlLCUOtf6bxiZV31SS7k9OmWWFn6A6NwE74JyRj1JFJphtwnA7Wzmej9tcjzxkFsiIiyggbJ7ezVW0WFYqLvUKYoMfQ/osaAVqkvm02BSK22xu4033R4AeiBI//kCqFa/kLr2Bp4iRdlAHliTHOqYPQggOh06x+HpxZa9NgpIeYQmOlwAnrzCmTBhx8JLbgaahyFkHPhy7ecYAPdnAL4AAAC+mooRApWDArQrAAAIbIy0FisBQMXAVow2+rFJNCQIw50FAB7nKiM5l5lbS2PE1ySpsUwe476Ot+J0h9jA79wL79aPmtZ2laxrXbhL5VjWR3WKywKRTbJWOFRbWXDX3CAcCaTmF12E2uKwN8FQnGV0YZPKtZS2B+F6o/JgqkQI0dJzFfi8vBcJVJsjsAOzqyJAsbB20vpIJTgpCkujExcoM842T+X9ete5qanWgZ4B4qKT7nM3mSbUs2XfYpmwlhMfxZ09GxQhFUdtRnmjndGovqgOXXvlXfokGxsYmxcZyA3NhACcgYkF/igB+G8UAACATwJ+KioFQ6yB51cIXOjVpHDfYyTYeZ5jjJEwxhhjJHplayqWVTdRVhtrrUaspJpYo23N9flgH/rWI8O5pfPbb7fypFFr9fyDav1cRWRo0beqQWcr5IuT6CV1wwDLd+dGs7Q3NMF0qqfnyZsNQ5VEM39EVBNIDSznptTrvM5+E4DnG045AKxZ2/LdxpbKha3uaDk3aPnnGxtQrb9ZQDRlXbishnL5Z+xaA9+uGubndULQ12ezFfu6b7y9WfPPm3i1dgSgv3kgQ+r/9VaBfVdsFk1ZjSE8ucIoAPC8vQH7zWKuSgC2esOqjT6l6NdJj5g7rLlHRL9W\" type=\"audio/ogg\" />\n",
       "                    Your browser does not support the audio element.\n",
       "                </audio>\n",
       "              "
      ]
     },
     "execution_count": 27,
     "metadata": {},
     "output_type": "execute_result"
    }
   ],
   "execution_count": 27
  },
  {
   "metadata": {
    "ExecuteTime": {
     "end_time": "2024-08-10T07:54:33.848533Z",
     "start_time": "2024-08-10T07:54:33.838364Z"
    }
   },
   "cell_type": "code",
   "source": "short[0]",
   "id": "cefda2d360162e7b",
   "outputs": [
    {
     "data": {
      "text/plain": [
       "{'audio': {'bytes': None,\n",
       "  'path': '/home/mwirth/projects/sound-seperation/data/DBD-research-group/BirdSet/XCM/downloads/extracted/93d320a64888b3429861a46f28e312f97f464f9b96972be4e21496656089f1f2/data/xeno-canto/europe/parus_major/XC770608.ogg'},\n",
       " 'filepath': '/home/mwirth/projects/sound-seperation/data/DBD-research-group/BirdSet/XCM/downloads/extracted/93d320a64888b3429861a46f28e312f97f464f9b96972be4e21496656089f1f2/data/xeno-canto/europe/parus_major/XC770608.ogg',\n",
       " 'start_time': None,\n",
       " 'end_time': None,\n",
       " 'low_freq': None,\n",
       " 'high_freq': None,\n",
       " 'ebird_code': 0,\n",
       " 'ebird_code_multilabel': [0],\n",
       " 'ebird_code_secondary': [],\n",
       " 'call_type': 'song',\n",
       " 'sex': None,\n",
       " 'lat': 50.6041,\n",
       " 'long': 5.6641,\n",
       " 'length': 5,\n",
       " 'microphone': 'focal',\n",
       " 'license': None,\n",
       " 'source': 'xenocanto',\n",
       " 'local_time': '10:00',\n",
       " 'detected_events': [[0.336, 4.848]],\n",
       " 'event_cluster': [-1],\n",
       " 'peaks': [6.250036182801301e-05,\n",
       "  1.8178542739486725,\n",
       "  2.285794482955006,\n",
       "  3.742896668432387,\n",
       "  4.248149593450044],\n",
       " 'quality': 'A',\n",
       " 'recordist': 'Chèvremont Fabian'}"
      ]
     },
     "execution_count": 16,
     "metadata": {},
     "output_type": "execute_result"
    }
   ],
   "execution_count": 16
  }
 ],
 "metadata": {
  "kernelspec": {
   "display_name": "Python 3",
   "language": "python",
   "name": "python3"
  },
  "language_info": {
   "codemirror_mode": {
    "name": "ipython",
    "version": 2
   },
   "file_extension": ".py",
   "mimetype": "text/x-python",
   "name": "python",
   "nbconvert_exporter": "python",
   "pygments_lexer": "ipython2",
   "version": "2.7.6"
  }
 },
 "nbformat": 4,
 "nbformat_minor": 5
}
