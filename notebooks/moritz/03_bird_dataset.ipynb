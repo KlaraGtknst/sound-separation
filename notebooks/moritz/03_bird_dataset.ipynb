{
 "cells": [
  {
   "cell_type": "code",
   "id": "initial_id",
   "metadata": {
    "collapsed": true,
    "ExecuteTime": {
     "end_time": "2024-08-07T07:58:32.416622Z",
     "start_time": "2024-08-07T07:58:32.391940Z"
    }
   },
   "source": [
    "%load_ext autoreload\n",
    "%autoreload 2"
   ],
   "outputs": [],
   "execution_count": 4
  },
  {
   "metadata": {
    "ExecuteTime": {
     "end_time": "2024-08-07T08:32:06.163064Z",
     "start_time": "2024-08-07T08:32:06.153739Z"
    }
   },
   "cell_type": "code",
   "source": [
    "from datasets import load_dataset\n",
    "from copy import deepcopy\n",
    "from datasets.formatting.formatting import LazyRow, LazyBatch"
   ],
   "id": "c17cb27942426285",
   "outputs": [],
   "execution_count": 30
  },
  {
   "metadata": {
    "ExecuteTime": {
     "end_time": "2024-08-07T08:56:06.702784Z",
     "start_time": "2024-08-07T08:56:06.693529Z"
    }
   },
   "cell_type": "code",
   "source": [
    "path = \"DBD-research-group/BirdSet\"\n",
    "name = \"XCM\"\n",
    "cache_dir = f\"data/{path}/{name}\"\n",
    "trust_remote_code =  True\n",
    "num_proc =  5"
   ],
   "id": "982ed2e9de9e2350",
   "outputs": [],
   "execution_count": 60
  },
  {
   "metadata": {
    "ExecuteTime": {
     "end_time": "2024-08-07T08:56:08.619417Z",
     "start_time": "2024-08-07T08:56:06.836224Z"
    }
   },
   "cell_type": "code",
   "source": "ds = load_dataset(path, name, cache_dir=cache_dir, trust_remote_code=True)",
   "id": "9bc872f61c0c7b3a",
   "outputs": [],
   "execution_count": 61
  },
  {
   "metadata": {
    "ExecuteTime": {
     "end_time": "2024-08-07T08:56:08.629539Z",
     "start_time": "2024-08-07T08:56:08.620157Z"
    }
   },
   "cell_type": "code",
   "source": [
    "class AudioLengthFilter:\n",
    "    def __init__(self, min_len: int = 0, max_len: int = 10):\n",
    "        self.min_len = min_len\n",
    "        self.max_len = max_len\n",
    "    \n",
    "    def __call__(self, batch):\n",
    "        return self.min_len <= batch[\"end_time\"] - batch[\"start_time\"] <= self.max_len"
   ],
   "id": "33452d47427e3293",
   "outputs": [],
   "execution_count": 62
  },
  {
   "metadata": {
    "ExecuteTime": {
     "end_time": "2024-08-07T09:38:59.635152Z",
     "start_time": "2024-08-07T09:38:59.624263Z"
    }
   },
   "cell_type": "code",
   "source": [
    "class AudioSegmenting:\n",
    "    def __init__(self, segment_length: int = 10, max_segments: int = 3):\n",
    "        self.segment_length = segment_length\n",
    "        self.max_segments = max_segments\n",
    "        \n",
    "    def __call__(self, batch):\n",
    "        new_batch = {k:[] for k in batch.keys()}\n",
    "        # iterate over all rows of batch\n",
    "        for b_idx in range(len(batch[\"filepath\"])):\n",
    "            # skip audios with to long length\n",
    "            if batch[\"length\"][b_idx] > self.segment_length * self.max_segments:\n",
    "                continue\n",
    "            \n",
    "            # add all keys to new_batch\n",
    "            for key in batch.keys():\n",
    "                # add duplicates if length is over 10, seconds\n",
    "                for i in range((batch[\"length\"][b_idx] // self.segment_length) + 1):\n",
    "                    if key == \"start_time\":\n",
    "                        new_batch[key] += [i * self.segment_length]\n",
    "                    elif key == \"end_time\":\n",
    "                        new_batch[key] += [min((i+1) * self.segment_length, batch[\"length\"][b_idx])]\n",
    "                    else:\n",
    "                        new_batch[key] += [batch[key][b_idx]]\n",
    "        return new_batch"
   ],
   "id": "989ac3dd6b2bcfd4",
   "outputs": [],
   "execution_count": 107
  },
  {
   "metadata": {
    "ExecuteTime": {
     "end_time": "2024-08-07T09:15:34.755212Z",
     "start_time": "2024-08-07T09:15:34.730082Z"
    }
   },
   "cell_type": "code",
   "source": [
    "new_ds = ds[\"train\"]\n",
    "new_ds = new_ds.map(AudioSegmenting(10), batched=True, batch_size=500)\n",
    "print(\"ds length\", len(new_ds), \"from:\", len(ds[\"train\"]))\n",
    "new_ds = new_ds.filter(AudioLengthFilter(5))"
   ],
   "id": "de8a7d43691e2bda",
   "outputs": [
    {
     "name": "stdout",
     "output_type": "stream",
     "text": [
      "ds length 81025 from: 80012\n"
     ]
    }
   ],
   "execution_count": 104
  },
  {
   "metadata": {
    "ExecuteTime": {
     "end_time": "2024-08-07T09:15:35.893245Z",
     "start_time": "2024-08-07T09:15:35.883829Z"
    }
   },
   "cell_type": "code",
   "source": "len(new_ds)",
   "id": "7821700fe3f6a2a9",
   "outputs": [
    {
     "data": {
      "text/plain": [
       "61498"
      ]
     },
     "execution_count": 105,
     "metadata": {},
     "output_type": "execute_result"
    }
   ],
   "execution_count": 105
  },
  {
   "metadata": {
    "ExecuteTime": {
     "end_time": "2024-08-07T09:15:58.604478Z",
     "start_time": "2024-08-07T09:15:58.592928Z"
    }
   },
   "cell_type": "code",
   "source": "new_ds[:10][\"start_time\"], new_ds[:10][\"end_time\"]",
   "id": "1326d8a80b4c2aff",
   "outputs": [
    {
     "data": {
      "text/plain": [
       "([0.0, 10.0, 20.0, 0.0, 0.0, 10.0, 0.0, 10.0, 0.0, 10.0],\n",
       " [10.0, 20.0, 29.0, 10.0, 10.0, 15.0, 10.0, 18.0, 10.0, 20.0])"
      ]
     },
     "execution_count": 106,
     "metadata": {},
     "output_type": "execute_result"
    }
   ],
   "execution_count": 106
  },
  {
   "metadata": {},
   "cell_type": "markdown",
   "source": "",
   "id": "39fe75a766af50e7"
  }
 ],
 "metadata": {
  "kernelspec": {
   "display_name": "Python 3",
   "language": "python",
   "name": "python3"
  },
  "language_info": {
   "codemirror_mode": {
    "name": "ipython",
    "version": 2
   },
   "file_extension": ".py",
   "mimetype": "text/x-python",
   "name": "python",
   "nbconvert_exporter": "python",
   "pygments_lexer": "ipython2",
   "version": "2.7.6"
  }
 },
 "nbformat": 4,
 "nbformat_minor": 5
}
