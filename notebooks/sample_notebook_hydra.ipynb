{
 "cells": [
  {
   "cell_type": "code",
   "source": [
    "%load_ext autoreload\n",
    "%autoreload 2"
   ],
   "metadata": {
    "collapsed": false,
    "ExecuteTime": {
     "end_time": "2024-08-08T08:01:22.111666Z",
     "start_time": "2024-08-08T08:01:22.103640Z"
    }
   },
   "id": "c0107964d0963a8d",
   "outputs": [],
   "execution_count": 1
  },
  {
   "cell_type": "code",
   "source": [
    "import os\n",
    "os.chdir(\"../\")\n",
    "os.getcwd()"
   ],
   "metadata": {
    "collapsed": false,
    "ExecuteTime": {
     "end_time": "2024-08-08T08:01:22.124499Z",
     "start_time": "2024-08-08T08:01:22.118430Z"
    }
   },
   "id": "75b2bf17d2af8c9f",
   "outputs": [
    {
     "data": {
      "text/plain": [
       "'/home/mwirth/projects/sound-seperation'"
      ]
     },
     "execution_count": 2,
     "metadata": {},
     "output_type": "execute_result"
    }
   ],
   "execution_count": 2
  },
  {
   "metadata": {
    "ExecuteTime": {
     "end_time": "2024-08-08T09:08:53.134568Z",
     "start_time": "2024-08-08T09:08:53.040233Z"
    }
   },
   "cell_type": "code",
   "source": [
    "from hydra import compose, initialize\n",
    "from hydra.utils import instantiate"
   ],
   "id": "9b09e648acefbd73",
   "outputs": [],
   "execution_count": 173
  },
  {
   "metadata": {
    "ExecuteTime": {
     "end_time": "2024-08-08T09:42:11.471691Z",
     "start_time": "2024-08-08T09:42:10.710593Z"
    }
   },
   "cell_type": "code",
   "source": [
    "with initialize(version_base=\"1.3\", config_path=\"../configs/\"):\n",
    "    cfg = compose(config_name=\"train.yaml\", return_hydra_config=True, #overrides=[\"experiment=HSN/HSN_Wav2vec2.yaml\"]\n",
    "                  )\n",
    "cfg.datamodule.hf_dataset.cache_dir = \"/home/mwirth/projects/sound-seperation/data/DBD-research-group/BirdSet/XCM\"\n",
    "cfg.datamodule.loaders.train.batch_size = 5"
   ],
   "id": "d626e167f2f6e4d",
   "outputs": [],
   "execution_count": 299
  },
  {
   "metadata": {
    "ExecuteTime": {
     "end_time": "2024-08-08T09:42:11.498185Z",
     "start_time": "2024-08-08T09:42:11.472444Z"
    }
   },
   "cell_type": "code",
   "source": "dm = instantiate(cfg[\"datamodule\"], _recursive_=False)",
   "id": "60390eb430689ae9",
   "outputs": [],
   "execution_count": 300
  },
  {
   "metadata": {
    "ExecuteTime": {
     "end_time": "2024-08-08T09:42:13.327218Z",
     "start_time": "2024-08-08T09:42:11.498824Z"
    }
   },
   "cell_type": "code",
   "source": "dm.prepare_data();",
   "id": "39ff99c324517d68",
   "outputs": [],
   "execution_count": 301
  },
  {
   "metadata": {
    "ExecuteTime": {
     "end_time": "2024-08-08T09:42:15.125421Z",
     "start_time": "2024-08-08T09:42:13.328067Z"
    }
   },
   "cell_type": "code",
   "source": [
    "dm.setup(\"fit\")\n",
    "dm.train_set"
   ],
   "id": "d23a7d6279232690",
   "outputs": [
    {
     "data": {
      "text/plain": [
       "<src.datamodules.datasets.BirdsetDataset at 0x7f9f93c85590>"
      ]
     },
     "execution_count": 302,
     "metadata": {},
     "output_type": "execute_result"
    }
   ],
   "execution_count": 302
  },
  {
   "metadata": {
    "ExecuteTime": {
     "end_time": "2024-08-08T09:42:15.168446Z",
     "start_time": "2024-08-08T09:42:15.126Z"
    }
   },
   "cell_type": "code",
   "source": [
    "data = dm.train_set[12]\n",
    "data[\"mix\"].shape[0] / 32000"
   ],
   "id": "e3ce029b2bc75878",
   "outputs": [
    {
     "name": "stdout",
     "output_type": "stream",
     "text": [
      "Mixing with: /home/mwirth/projects/sound-seperation/data/dcase/df355e54-6031-4816-a52b-3e15b142a8f5.wav\n"
     ]
    },
    {
     "data": {
      "text/plain": [
       "10.0"
      ]
     },
     "execution_count": 303,
     "metadata": {},
     "output_type": "execute_result"
    }
   ],
   "execution_count": 303
  },
  {
   "metadata": {
    "ExecuteTime": {
     "end_time": "2024-08-08T09:42:15.189362Z",
     "start_time": "2024-08-08T09:42:15.168983Z"
    }
   },
   "cell_type": "code",
   "source": "data",
   "id": "975a09a018bc184f",
   "outputs": [
    {
     "data": {
      "text/plain": [
       "{'audio': {'wave': array([0.05213653, 0.06206687, 0.06396189, ..., 0.14436286, 0.13700848,\n",
       "         0.14467258]),\n",
       "  'sr': 32000},\n",
       " 'filepath': '/home/mwirth/projects/sound-seperation/data/DBD-research-group/BirdSet/XCM/downloads/extracted/85c1e3c4aa103bca4108bff01a4ebdcc1290a6864c6644f1319eab40ad33e0af/data/xeno-canto/europe/columba_palumbus/XC590935.ogg',\n",
       " 'start_time': 10.0,\n",
       " 'end_time': 20.0,\n",
       " 'ebird_code': 53,\n",
       " 'length': 28,\n",
       " 'filepath_mix': '/home/mwirth/projects/sound-seperation/data/dcase/df355e54-6031-4816-a52b-3e15b142a8f5.wav',\n",
       " 'bg_audio': array([-0.03422357, -0.04334069, -0.06930351, ...,  0.        ,\n",
       "         0.        ,  0.        ]),\n",
       " 'mix': array([ 0.12895113,  0.13472437, -0.03613988, ...,  1.02665548,\n",
       "         0.97444463,  1.02885431])}"
      ]
     },
     "execution_count": 304,
     "metadata": {},
     "output_type": "execute_result"
    }
   ],
   "execution_count": 304
  },
  {
   "metadata": {
    "ExecuteTime": {
     "end_time": "2024-08-08T09:52:11.229610Z",
     "start_time": "2024-08-08T09:52:10.222053Z"
    }
   },
   "cell_type": "code",
   "source": "dl = iter(dm.train_dataloader())",
   "id": "812a628055cbe495",
   "outputs": [
    {
     "name": "stdout",
     "output_type": "stream",
     "text": [
      "Mixing with:Mixing with:  /home/mwirth/projects/sound-seperation/data/dcase/ceb766c6-813c-4800-ae2d-a018702c5fe8.wav/home/mwirth/projects/sound-seperation/data/dcase/e6a9cbc8-a44a-47da-a355-f3bb558b62fe.wav\n",
      "\n",
      "Mixing with: /home/mwirth/projects/sound-seperation/data/dcase/614e4c8d-9cab-4800-a0fb-901d8c4d7b76.wav\n",
      "Mixing with:Mixing with:Mixing with:Mixing with: /home/mwirth/projects/sound-seperation/data/dcase/84768bdc-d5b8-47cf-ac29-4a35209f5316.wavMixing with:\n",
      "   /home/mwirth/projects/sound-seperation/data/dcase/65d37336-6482-4fb5-a14f-6ea0f7439a37.wav/home/mwirth/projects/sound-seperation/data/dcase/34519383-384f-4838-a8a0-b5abd3c7f395.wavMixing with:\n",
      "\n",
      " /home/mwirth/projects/sound-seperation/data/dcase/88942f72-769b-4c67-a981-621c89421d1b.wav /home/mwirth/projects/sound-seperation/data/dcase/b5494222-edd0-43b8-abd7-d729a0a06d04.wav/home/mwirth/projects/sound-seperation/data/dcase/bfeed8ea-3198-45f6-a974-7d75be815b5c.wav\n",
      "\n",
      "\n",
      "Mixing with:Mixing with: /home/mwirth/projects/sound-seperation/data/dcase/638bffdc-9636-45c8-aaf0-8d8c9b2bad12.wav\n",
      " /home/mwirth/projects/sound-seperation/data/dcase/90693b32-a2d3-4479-a0d9-072d56262803.wav\n",
      "Mixing with: /home/mwirth/projects/sound-seperation/data/dcase/681980ae-6584-4818-ae60-fb64e75132b4.wav"
     ]
    }
   ],
   "execution_count": 309
  },
  {
   "metadata": {
    "ExecuteTime": {
     "end_time": "2024-08-08T09:52:24.581183Z",
     "start_time": "2024-08-08T09:52:24.561124Z"
    }
   },
   "cell_type": "code",
   "source": "",
   "id": "ae8c16c2498b43b",
   "outputs": [],
   "execution_count": 311
  },
  {
   "metadata": {
    "ExecuteTime": {
     "end_time": "2024-08-08T10:20:48.377352Z",
     "start_time": "2024-08-08T10:20:47.063944Z"
    }
   },
   "cell_type": "code",
   "source": [
    "data = next(dl)\n",
    "for key, v in data.items():\n",
    "    print(key, v.shape)\n",
    "print(data)"
   ],
   "id": "e5573e1786f0ad8a",
   "outputs": [
    {
     "name": "stdout",
     "output_type": "stream",
     "text": [
      "audio torch.Size([5, 320000])\n",
      "ebird_code torch.Size([5])\n",
      "length torch.Size([5])\n",
      "bg_audio torch.Size([5, 320000])\n",
      "mix torch.Size([5, 320000])\n",
      "{'audio': tensor([[ 4.3184e-05,  1.9130e-05, -1.6293e-05,  ..., -3.0464e-03,\n",
      "         -5.5180e-03, -1.5263e-02],\n",
      "        [-3.8720e-06,  3.2310e-05,  8.1982e-06,  ..., -4.7783e-02,\n",
      "         -2.8653e-03,  5.6273e-02],\n",
      "        [ 2.1995e-01,  2.7767e-01,  2.3666e-01,  ...,  9.4160e-02,\n",
      "          9.5245e-02,  9.6303e-02],\n",
      "        [ 1.0331e-01,  1.0560e-01,  9.9175e-02,  ...,  1.2616e-01,\n",
      "          9.4832e-02,  5.8117e-02],\n",
      "        [-6.4632e-12, -8.0893e-11, -2.1403e-10,  ...,  0.0000e+00,\n",
      "          0.0000e+00,  0.0000e+00]], dtype=torch.float64), 'ebird_code': tensor([317,  76,  24,  56, 191]), 'length': tensor([25, 26, 21, 21,  4]), 'bg_audio': tensor([[ 0.0939,  0.1624,  0.1462,  ...,  0.0000,  0.0000,  0.0000],\n",
      "        [ 0.0008, -0.0063, -0.0036,  ...,  0.0000,  0.0000,  0.0000],\n",
      "        [-0.1934, -0.2234, -0.0805,  ...,  0.0000,  0.0000,  0.0000],\n",
      "        [ 0.0901,  0.1069,  0.1095,  ...,  0.0000,  0.0000,  0.0000],\n",
      "        [-0.1530, -0.1471, -0.0891,  ...,  0.0000,  0.0000,  0.0000]],\n",
      "       dtype=torch.float64), 'mix': tensor([[ 0.6699,  1.1538,  1.0395,  ..., -0.0168, -0.0343, -0.1033],\n",
      "        [ 0.0140, -0.0357, -0.0167,  ..., -0.3293, -0.0116,  0.4065],\n",
      "        [ 0.1919,  0.3886,  1.1107,  ...,  0.6713,  0.6790,  0.6865],\n",
      "        [ 1.3649,  1.4999,  1.4728,  ...,  0.8897,  0.6682,  0.4086],\n",
      "        [-1.0836, -1.0424, -0.6323,  ...,  0.0000,  0.0000,  0.0000]],\n",
      "       dtype=torch.float64)}\n"
     ]
    }
   ],
   "execution_count": 321
  }
 ],
 "metadata": {
  "kernelspec": {
   "display_name": "Python 3",
   "language": "python",
   "name": "python3"
  },
  "language_info": {
   "codemirror_mode": {
    "name": "ipython",
    "version": 2
   },
   "file_extension": ".py",
   "mimetype": "text/x-python",
   "name": "python",
   "nbconvert_exporter": "python",
   "pygments_lexer": "ipython2",
   "version": "2.7.6"
  }
 },
 "nbformat": 4,
 "nbformat_minor": 5
}
