{
 "cells": [
  {
   "cell_type": "markdown",
   "source": [
    "Setup to run train with in a notebook"
   ],
   "metadata": {
    "collapsed": false
   },
   "id": "edeb1b16703f8a2d"
  },
  {
   "cell_type": "code",
   "source": [
    "%load_ext autoreload\n",
    "%autoreload 2"
   ],
   "metadata": {
    "collapsed": false,
    "ExecuteTime": {
     "end_time": "2024-08-07T10:24:00.838613Z",
     "start_time": "2024-08-07T10:24:00.830594Z"
    }
   },
   "id": "c0107964d0963a8d",
   "outputs": [],
   "execution_count": 1
  },
  {
   "cell_type": "code",
   "source": [
    "import os\n",
    "os.chdir(\"../\")\n",
    "os.getcwd()"
   ],
   "metadata": {
    "collapsed": false,
    "ExecuteTime": {
     "end_time": "2024-08-07T10:24:00.997157Z",
     "start_time": "2024-08-07T10:24:00.990678Z"
    }
   },
   "id": "75b2bf17d2af8c9f",
   "outputs": [
    {
     "data": {
      "text/plain": [
       "'/home/mwirth/projects/sound-seperation'"
      ]
     },
     "execution_count": 2,
     "metadata": {},
     "output_type": "execute_result"
    }
   ],
   "execution_count": 2
  },
  {
   "metadata": {
    "ExecuteTime": {
     "end_time": "2024-08-07T10:35:17.674786Z",
     "start_time": "2024-08-07T10:35:17.535077Z"
    }
   },
   "cell_type": "code",
   "source": [
    "from hydra import compose, initialize\n",
    "from hydra.utils import instantiate"
   ],
   "id": "9b09e648acefbd73",
   "outputs": [],
   "execution_count": 36
  },
  {
   "metadata": {
    "ExecuteTime": {
     "end_time": "2024-08-07T10:35:17.941250Z",
     "start_time": "2024-08-07T10:35:17.832212Z"
    }
   },
   "cell_type": "code",
   "source": [
    "with initialize(version_base=\"1.3\", config_path=\"../configs/\"):\n",
    "    cfg = compose(config_name=\"train.yaml\", return_hydra_config=True, #overrides=[\"experiment=HSN/HSN_Wav2vec2.yaml\"]\n",
    "                  )\n",
    "cfg.datamodule.hf_dataset.cache_dir = \"/home/mwirth/projects/sound-seperation/data/DBD-research-group/BirdSet/XCM\""
   ],
   "id": "d626e167f2f6e4d",
   "outputs": [],
   "execution_count": 37
  },
  {
   "metadata": {
    "ExecuteTime": {
     "end_time": "2024-08-07T10:35:23.427406Z",
     "start_time": "2024-08-07T10:35:18.271029Z"
    }
   },
   "cell_type": "code",
   "source": "dm = instantiate(cfg[\"datamodule\"], _recursive_=False)",
   "id": "60390eb430689ae9",
   "outputs": [
    {
     "data": {
      "text/plain": [
       "Filter:   0%|          | 0/81025 [00:00<?, ? examples/s]"
      ],
      "application/vnd.jupyter.widget-view+json": {
       "version_major": 2,
       "version_minor": 0,
       "model_id": "451bdd3c651b42e7abe211b141320756"
      }
     },
     "metadata": {},
     "output_type": "display_data"
    }
   ],
   "execution_count": 38
  },
  {
   "metadata": {
    "ExecuteTime": {
     "end_time": "2024-08-07T10:35:45.562498Z",
     "start_time": "2024-08-07T10:35:45.543047Z"
    }
   },
   "cell_type": "code",
   "source": "dm.hf_train_split[:5]",
   "id": "1bb216aa1fb19c97",
   "outputs": [
    {
     "data": {
      "text/plain": [
       "{'audio': [{'bytes': None,\n",
       "   'path': '/home/mwirth/projects/sound-seperation/notebooks/moritz/data/DBD-research-group/BirdSet/XCM/downloads/extracted/2cd960300035e5d02e155dda3ccb2fd1a80a07b2c6ebd3e1f8c4c4fbcceca646/data/xeno-canto/north_america/aix_sponsa/XC210720.ogg'},\n",
       "  {'bytes': None,\n",
       "   'path': '/home/mwirth/projects/sound-seperation/notebooks/moritz/data/DBD-research-group/BirdSet/XCM/downloads/extracted/a480c6400c5a329b34fea8cc3d22dd76b179556fa3ba0267178b5152337ecbda/data/xeno-canto/europe/aegithalos_caudatus/XC707394.ogg'},\n",
       "  {'bytes': None,\n",
       "   'path': '/home/mwirth/projects/sound-seperation/notebooks/moritz/data/DBD-research-group/BirdSet/XCM/downloads/extracted/93fdbe6fd0ac5cac86d84d345ea1a6d018c88c44430fcf35560182ba734ae63a/data/xeno-canto/south_america/dendrocincla_fuliginosa/XC248437.ogg'},\n",
       "  {'bytes': None,\n",
       "   'path': '/home/mwirth/projects/sound-seperation/notebooks/moritz/data/DBD-research-group/BirdSet/XCM/downloads/extracted/3f1811816345a6a726448ea098df08e86cbc845c4441386306563e72a2a2bf04/data/xeno-canto/north_america/setophaga_coronata/XC135651.ogg'},\n",
       "  {'bytes': None,\n",
       "   'path': '/home/mwirth/projects/sound-seperation/notebooks/moritz/data/DBD-research-group/BirdSet/XCM/downloads/extracted/beb5590c54eaca1ec6398823e131a9d0aa12051913cb405dc3d042cc79d32d17/data/xeno-canto/europe/anas_platyrhynchos/XC702318.ogg'}],\n",
       " 'filepath': ['/home/mwirth/projects/sound-seperation/notebooks/moritz/data/DBD-research-group/BirdSet/XCM/downloads/extracted/2cd960300035e5d02e155dda3ccb2fd1a80a07b2c6ebd3e1f8c4c4fbcceca646/data/xeno-canto/north_america/aix_sponsa/XC210720.ogg',\n",
       "  '/home/mwirth/projects/sound-seperation/notebooks/moritz/data/DBD-research-group/BirdSet/XCM/downloads/extracted/a480c6400c5a329b34fea8cc3d22dd76b179556fa3ba0267178b5152337ecbda/data/xeno-canto/europe/aegithalos_caudatus/XC707394.ogg',\n",
       "  '/home/mwirth/projects/sound-seperation/notebooks/moritz/data/DBD-research-group/BirdSet/XCM/downloads/extracted/93fdbe6fd0ac5cac86d84d345ea1a6d018c88c44430fcf35560182ba734ae63a/data/xeno-canto/south_america/dendrocincla_fuliginosa/XC248437.ogg',\n",
       "  '/home/mwirth/projects/sound-seperation/notebooks/moritz/data/DBD-research-group/BirdSet/XCM/downloads/extracted/3f1811816345a6a726448ea098df08e86cbc845c4441386306563e72a2a2bf04/data/xeno-canto/north_america/setophaga_coronata/XC135651.ogg',\n",
       "  '/home/mwirth/projects/sound-seperation/notebooks/moritz/data/DBD-research-group/BirdSet/XCM/downloads/extracted/beb5590c54eaca1ec6398823e131a9d0aa12051913cb405dc3d042cc79d32d17/data/xeno-canto/europe/anas_platyrhynchos/XC702318.ogg'],\n",
       " 'start_time': [10.0, 0.0, 10.0, 20.0, 20.0],\n",
       " 'end_time': [16.0, 7.0, 11.0, 26.0, 22.0],\n",
       " 'low_freq': [None, None, None, None, None],\n",
       " 'high_freq': [None, None, None, None, None],\n",
       " 'ebird_code': [75, 27, 185, 311, 39],\n",
       " 'ebird_code_multilabel': [[75], [27], [185], [311], [39]],\n",
       " 'ebird_code_secondary': [[], [], [], [], ['eurbla']],\n",
       " 'call_type': ['alarm call', 'call', 'call', 'song', 'call'],\n",
       " 'sex': [None, None, None, None, None],\n",
       " 'lat': [30.652, 48.748, 0.217, 35.5628, 37.069],\n",
       " 'long': [-96.1671, -1.5664, -78.89, -83.4985, -7.7248],\n",
       " 'length': [16, 7, 11, 26, 22],\n",
       " 'microphone': ['focal', 'focal', 'focal', 'focal', 'focal'],\n",
       " 'license': [None, None, None, None, None],\n",
       " 'source': ['xenocanto', 'xenocanto', 'xenocanto', 'xenocanto', 'xenocanto'],\n",
       " 'local_time': ['11:00', '12:00', '16:00', '11:30', '18:16'],\n",
       " 'detected_events': [[[1.152, 4.912], [7.36, 8.304]],\n",
       "  [[2.032, 3.312]],\n",
       "  [[3.248, 4.0], [6.112, 7.76]],\n",
       "  [[0.24, 1.808],\n",
       "   [7.472, 9.392],\n",
       "   [10.416, 12.16],\n",
       "   [12.256, 12.864],\n",
       "   [14.416, 15.488],\n",
       "   [19.296, 20.4],\n",
       "   [21.648, 23.376]],\n",
       "  [[0.96, 4.4],\n",
       "   [0.992, 2.016],\n",
       "   [13.04, 15.824],\n",
       "   [13.088, 14.0],\n",
       "   [17.92, 18.848],\n",
       "   [18.256, 19.664],\n",
       "   [20.032, 20.608]]],\n",
       " 'event_cluster': [[-1, -1],\n",
       "  [-1],\n",
       "  [-1, -1],\n",
       "  [0, 0, -1, -1, -1, 0, 0],\n",
       "  [2, 0, 2, 0, 1, 1, -1]],\n",
       " 'peaks': [[3.6171005067930437],\n",
       "  [3.015355912175107],\n",
       "  [3.5600098583280717, 6.595830765079642],\n",
       "  [8.119759590388055,\n",
       "   8.312322317827213,\n",
       "   8.485010021791638,\n",
       "   8.659103977417011,\n",
       "   8.83516668536771,\n",
       "   9.0425731803391],\n",
       "  [1.0981265014691666,\n",
       "   1.5360333502195205,\n",
       "   1.889815083945543,\n",
       "   2.2747218602288592,\n",
       "   2.675503658218104]],\n",
       " 'quality': ['B', 'B', 'A', 'B', 'A'],\n",
       " 'recordist': ['Robert Benson',\n",
       "  'Sonothèque ADVL',\n",
       "  'Niels Krabbe',\n",
       "  'Mike Nelson',\n",
       "  'Nelson Conceição']}"
      ]
     },
     "execution_count": 42,
     "metadata": {},
     "output_type": "execute_result"
    }
   ],
   "execution_count": 42
  },
  {
   "metadata": {
    "ExecuteTime": {
     "end_time": "2024-08-07T10:36:46.814949Z",
     "start_time": "2024-08-07T10:36:46.795396Z"
    }
   },
   "cell_type": "code",
   "source": "dm.hf_valid_split[:5]",
   "id": "c90825723f47fd7",
   "outputs": [
    {
     "data": {
      "text/plain": [
       "{'audio': [{'bytes': None,\n",
       "   'path': '/home/mwirth/projects/sound-seperation/notebooks/moritz/data/DBD-research-group/BirdSet/XCM/downloads/extracted/be789baf1d713bc8f6d3e99694f891388c50d7c6a4c642532aa6c05901c33c95/data/xeno-canto/north_america/larus_delawarensis/XC71564.ogg'},\n",
       "  {'bytes': None,\n",
       "   'path': '/home/mwirth/projects/sound-seperation/notebooks/moritz/data/DBD-research-group/BirdSet/XCM/downloads/extracted/50af9717b79ff9b0982abccb6c8f11b4dbc0e36a2ca44b3e226c8f0f7735e7af/data/xeno-canto/north_america/melospiza_lincolnii/XC539278.ogg'},\n",
       "  {'bytes': None,\n",
       "   'path': '/home/mwirth/projects/sound-seperation/notebooks/moritz/data/DBD-research-group/BirdSet/XCM/downloads/extracted/5076c2c75a73c4986753d23b9f50b5937d03d67cbc441277eebb07eea1f59f34/data/xeno-canto/europe/muscicapa_striata/XC562627.ogg'},\n",
       "  {'bytes': None,\n",
       "   'path': '/home/mwirth/projects/sound-seperation/notebooks/moritz/data/DBD-research-group/BirdSet/XCM/downloads/extracted/5e8b3e3fa1e97209ea7091ad3440bfbb584a6899cea8cbce07a3835dd0ec031e/data/xeno-canto/europe/lophophanes_cristatus/XC622079.ogg'},\n",
       "  {'bytes': None,\n",
       "   'path': '/home/mwirth/projects/sound-seperation/notebooks/moritz/data/DBD-research-group/BirdSet/XCM/downloads/extracted/139d8a2c8c7e39bb8964cfb3207dd3a50878aaa4e13cd44860fe6396797b817d/data/xeno-canto/north_america/thraupis_episcopus/XC378046.ogg'}],\n",
       " 'filepath': ['/home/mwirth/projects/sound-seperation/notebooks/moritz/data/DBD-research-group/BirdSet/XCM/downloads/extracted/be789baf1d713bc8f6d3e99694f891388c50d7c6a4c642532aa6c05901c33c95/data/xeno-canto/north_america/larus_delawarensis/XC71564.ogg',\n",
       "  '/home/mwirth/projects/sound-seperation/notebooks/moritz/data/DBD-research-group/BirdSet/XCM/downloads/extracted/50af9717b79ff9b0982abccb6c8f11b4dbc0e36a2ca44b3e226c8f0f7735e7af/data/xeno-canto/north_america/melospiza_lincolnii/XC539278.ogg',\n",
       "  '/home/mwirth/projects/sound-seperation/notebooks/moritz/data/DBD-research-group/BirdSet/XCM/downloads/extracted/5076c2c75a73c4986753d23b9f50b5937d03d67cbc441277eebb07eea1f59f34/data/xeno-canto/europe/muscicapa_striata/XC562627.ogg',\n",
       "  '/home/mwirth/projects/sound-seperation/notebooks/moritz/data/DBD-research-group/BirdSet/XCM/downloads/extracted/5e8b3e3fa1e97209ea7091ad3440bfbb584a6899cea8cbce07a3835dd0ec031e/data/xeno-canto/europe/lophophanes_cristatus/XC622079.ogg',\n",
       "  '/home/mwirth/projects/sound-seperation/notebooks/moritz/data/DBD-research-group/BirdSet/XCM/downloads/extracted/139d8a2c8c7e39bb8964cfb3207dd3a50878aaa4e13cd44860fe6396797b817d/data/xeno-canto/north_america/thraupis_episcopus/XC378046.ogg'],\n",
       " 'start_time': [10.0, 10.0, 20.0, 20.0, 20.0],\n",
       " 'end_time': [15.0, 10.0, 21.0, 21.0, 23.0],\n",
       " 'low_freq': [None, None, None, None, None],\n",
       " 'high_freq': [None, None, None, None, None],\n",
       " 'ebird_code': [116, 397, 33, 41, 329],\n",
       " 'ebird_code_multilabel': [[116], [397], [33], [41], [329]],\n",
       " 'ebird_code_secondary': [[],\n",
       "  [],\n",
       "  [],\n",
       "  ['sonthr1', 'gretit1', 'eurrob1', 'winwre4'],\n",
       "  []],\n",
       " 'call_type': ['call', 'call', 'nocturnal flight call', 'call', 'song'],\n",
       " 'sex': [None, None, None, None, None],\n",
       " 'lat': [35.791, 32.6675, 50.7347, 42.8373, 18.2135],\n",
       " 'long': [-84.246, -116.9268, 3.2143, -8.652, -94.8365],\n",
       " 'length': [15, 10, 21, 21, 23],\n",
       " 'microphone': ['focal', 'focal', 'focal', 'focal', 'focal'],\n",
       " 'license': [None, None, None, None, None],\n",
       " 'source': ['xenocanto', 'xenocanto', 'xenocanto', 'xenocanto', 'xenocanto'],\n",
       " 'local_time': ['11:30am', '07:33', '01:00', '12:30', '06:30'],\n",
       " 'detected_events': [[[9.6, 11.328], [11.968, 12.56], [13.344, 14.672]],\n",
       "  [[2.496, 3.472], [8.208, 9.12]],\n",
       "  [],\n",
       "  [[0.016, 2.496],\n",
       "   [2.56, 3.296],\n",
       "   [4.256, 6.64],\n",
       "   [8.368, 10.976],\n",
       "   [8.64, 10.0],\n",
       "   [10.896, 11.728],\n",
       "   [11.584, 12.416],\n",
       "   [12.512, 13.36],\n",
       "   [14.176, 14.784],\n",
       "   [15.472, 18.16],\n",
       "   [18.4, 19.12]],\n",
       "  [[0.24, 3.84], [8.672, 12.624], [13.664, 15.92], [19.328, 23.472]]],\n",
       " 'event_cluster': [[-1, -1, -1],\n",
       "  [-1, -1],\n",
       "  [],\n",
       "  [0, -1, 2, -1, 0, -1, 1, 1, 1, 2, -1],\n",
       "  [0, 0, -1, 0]],\n",
       " 'peaks': [[10.581177814094714],\n",
       "  [1.8536617148045837, 8.898557483954846],\n",
       "  [5.130570136231508],\n",
       "  [],\n",
       "  [15.717989464708618, 20.60083964980765]],\n",
       " 'quality': ['B', 'A', 'B', 'B', 'A'],\n",
       " 'recordist': ['Mike Nelson',\n",
       "  'Paul Marvin',\n",
       "  'Christophe Gruwier',\n",
       "  'Jacobo Ramil MIllarengo',\n",
       "  'Manuel Grosselet']}"
      ]
     },
     "execution_count": 43,
     "metadata": {},
     "output_type": "execute_result"
    }
   ],
   "execution_count": 43
  }
 ],
 "metadata": {
  "kernelspec": {
   "display_name": "Python 3",
   "language": "python",
   "name": "python3"
  },
  "language_info": {
   "codemirror_mode": {
    "name": "ipython",
    "version": 2
   },
   "file_extension": ".py",
   "mimetype": "text/x-python",
   "name": "python",
   "nbconvert_exporter": "python",
   "pygments_lexer": "ipython2",
   "version": "2.7.6"
  }
 },
 "nbformat": 4,
 "nbformat_minor": 5
}
