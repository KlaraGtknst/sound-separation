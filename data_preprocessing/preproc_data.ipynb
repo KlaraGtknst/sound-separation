{
 "cells": [
  {
   "cell_type": "code",
   "execution_count": 1,
   "metadata": {},
   "outputs": [],
   "source": [
    "import keep_5s_files as k5\n",
    "import os"
   ]
  },
  {
   "cell_type": "code",
   "execution_count": 2,
   "metadata": {},
   "outputs": [],
   "source": [
    "data_path = '/'.join(os.path.abspath(os.getcwd()).split('/')[:-1]) + '/data/7078499/'\n",
    "path2annotations = data_path + \"annotations.csv\"\n",
    "path2data = data_path + \"soundscape_data.zip\""
   ]
  },
  {
   "cell_type": "code",
   "execution_count": 3,
   "metadata": {},
   "outputs": [],
   "source": [
    "preproc = k5.PreprocessData(path2annotations=path2annotations, path2data=path2data)"
   ]
  },
  {
   "cell_type": "code",
   "execution_count": 4,
   "metadata": {},
   "outputs": [
    {
     "name": "stdout",
     "output_type": "stream",
     "text": [
      "Number of annotations: 59583\n",
      "Number of annotations after filtering: 58560\n",
      "Would Removed file: UHH_325_S01_20161205_062000.flac\n",
      "Would Removed file: UHH_423_S03_20180524_221400.flac\n"
     ]
    }
   ],
   "source": [
    "preproc.keep_5s_files()"
   ]
  },
  {
   "cell_type": "code",
   "execution_count": null,
   "metadata": {},
   "outputs": [],
   "source": []
  }
 ],
 "metadata": {
  "kernelspec": {
   "display_name": "sound_sep-venv",
   "language": "python",
   "name": "python3"
  },
  "language_info": {
   "codemirror_mode": {
    "name": "ipython",
    "version": 3
   },
   "file_extension": ".py",
   "mimetype": "text/x-python",
   "name": "python",
   "nbconvert_exporter": "python",
   "pygments_lexer": "ipython3",
   "version": "3.9.6"
  }
 },
 "nbformat": 4,
 "nbformat_minor": 2
}
